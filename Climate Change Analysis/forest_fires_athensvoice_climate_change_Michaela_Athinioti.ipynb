{
  "nbformat": 4,
  "nbformat_minor": 0,
  "metadata": {
    "colab": {
      "provenance": [],
      "mount_file_id": "1kjqzTZS5P76mThGM0e6pVuHJ5uK9QA26",
      "authorship_tag": "ABX9TyPA90YcYOOvUx0fJ9tWUFnD",
      "include_colab_link": true
    },
    "kernelspec": {
      "name": "python3",
      "display_name": "Python 3"
    },
    "language_info": {
      "name": "python"
    }
  },
  "cells": [
    {
      "cell_type": "markdown",
      "metadata": {
        "id": "view-in-github",
        "colab_type": "text"
      },
      "source": [
        "<a href=\"https://colab.research.google.com/github/athiniotim/Final_Essay_Forest_Fires/blob/main/forest_fires_athensvoice_climate_change_Michaela_Athinioti.ipynb\" target=\"_parent\"><img src=\"https://colab.research.google.com/assets/colab-badge.svg\" alt=\"Open In Colab\"/></a>"
      ]
    },
    {
      "cell_type": "code",
      "source": [
        "import pandas as pd\n",
        "df = pd.read_csv('/content/drive/MyDrive/Final Essay ΕΔΔΕ.2 Αθηνιώτη Μιχαέλα/clean csv/forest_fires_athensvoice_articles_csv.csv')\n",
        "df.head()"
      ],
      "metadata": {
        "colab": {
          "base_uri": "https://localhost:8080/",
          "height": 414
        },
        "id": "_AOKSah2PYPm",
        "outputId": "bb57dc38-059c-4dee-eb30-04943b60755e"
      },
      "execution_count": 19,
      "outputs": [
        {
          "output_type": "execute_result",
          "data": {
            "text/plain": [
              "                                         article_url  \\\n",
              "0  https://www.athensvoice.gr/epikairotita/diethn...   \n",
              "1  https://www.athensvoice.gr/epikairotita/diethn...   \n",
              "2  https://www.athensvoice.gr/epikairotita/diethn...   \n",
              "3  https://www.athensvoice.gr/epikairotita/politi...   \n",
              "4  https://www.athensvoice.gr/life/perivallon/882...   \n",
              "\n",
              "                                               title        date      time  \\\n",
              "0  Μαγικές εικόνες από την «Πόλη του Πάγου» της Κ...  2024-12-29  10:40:50   \n",
              "1  Καζακστάν: Η Azerbaijan Airlines ανακοίνωσε ότ...  2024-12-27  11:26:13   \n",
              "2  Η Ρωσία ξεκίνησε τη χρήση bitcoin για να αντιμ...  2024-12-25  15:02:24   \n",
              "3  Μιλένα Αποστολάκη προς Τάκη Θεοδωρικάκο: Μαζικ...  2024-12-19  10:11:59   \n",
              "4  Πόσο αυξήθηκαν οι πυρκαγιές το 2024 - Η ανασκό...  2024-12-17  18:12:54   \n",
              "\n",
              "                section    author  \\\n",
              "0                Κοσμος  Newsroom   \n",
              "1                Κοσμος  Newsroom   \n",
              "2                Κοσμος  Newsroom   \n",
              "3  Πολιτικη & Οικονομια  Newsroom   \n",
              "4            Περιβαλλον  Newsroom   \n",
              "\n",
              "                                             excerpt  \\\n",
              "0  Ουρανοξύστες και ναοί φτιαγμένοι από πάγο στο ...   \n",
              "1  Καζακστάν: Η Azerbaijan Airlines ανακοίνωσε ότ...   \n",
              "2  Ο Ρώσος Πρόεδρος Βλαντιμίρ Πούτιν δήλωσε ότι κ...   \n",
              "3  Μιλένα Αποστολάκη προς Τάκη Θεοδωρικάκο: Μαζικ...   \n",
              "4  Πόσο αυξήθηκαν οι πυρκαγιές το 2024 - Η ανασκό...   \n",
              "\n",
              "                                            subtitle  \\\n",
              "0  Το πάρκο έχει έκταση ενός εκατομμυρίου τετραγω...   \n",
              "1                 Φόβοι για την ασφάλεια των πτήσεων   \n",
              "2  Ο Βλαντιμίρ Πούτιν υποστηρίζει την εκτεταμένη ...   \n",
              "3  Η βουλευτής Βόρειου Τομέα του ΠΑΣΟΚ σημειώνει ...   \n",
              "4  Εθνικό Αστεροσκοπείο Αθηνών και WWF Ελλάς εγκα...   \n",
              "\n",
              "                                           text_body  \\\n",
              "0  Διάφορα κτίρια-ορόσημα του Χονγκ Κονγκ, του Μα...   \n",
              "1  Η Azerbaijan Airlines ανακοίνωσε ότι διακόπτει...   \n",
              "2  Εταιρείες στη Ρωσία ξεκίνησαν να χρησιμοποιούν...   \n",
              "3  Το μείζον θέμα των υπέρογκων, διαδοχικών και α...   \n",
              "4  Η ολοκληρωμένη ανασκόπηση της αντιπυρικής περι...   \n",
              "\n",
              "                                       feat_img_link  \n",
              "0  https://www.athensvoice.gr/images/1074x600/jpg...  \n",
              "1  https://www.athensvoice.gr/images/1074x600/1/j...  \n",
              "2  https://www.athensvoice.gr/images/1074x600/1/j...  \n",
              "3  https://www.athensvoice.gr/images/1074x600/1/j...  \n",
              "4  https://www.athensvoice.gr/images/1074x600/jpg...  "
            ],
            "text/html": [
              "\n",
              "  <div id=\"df-afdd0c8d-af0b-4642-a128-b9fd1c836f0a\" class=\"colab-df-container\">\n",
              "    <div>\n",
              "<style scoped>\n",
              "    .dataframe tbody tr th:only-of-type {\n",
              "        vertical-align: middle;\n",
              "    }\n",
              "\n",
              "    .dataframe tbody tr th {\n",
              "        vertical-align: top;\n",
              "    }\n",
              "\n",
              "    .dataframe thead th {\n",
              "        text-align: right;\n",
              "    }\n",
              "</style>\n",
              "<table border=\"1\" class=\"dataframe\">\n",
              "  <thead>\n",
              "    <tr style=\"text-align: right;\">\n",
              "      <th></th>\n",
              "      <th>article_url</th>\n",
              "      <th>title</th>\n",
              "      <th>date</th>\n",
              "      <th>time</th>\n",
              "      <th>section</th>\n",
              "      <th>author</th>\n",
              "      <th>excerpt</th>\n",
              "      <th>subtitle</th>\n",
              "      <th>text_body</th>\n",
              "      <th>feat_img_link</th>\n",
              "    </tr>\n",
              "  </thead>\n",
              "  <tbody>\n",
              "    <tr>\n",
              "      <th>0</th>\n",
              "      <td>https://www.athensvoice.gr/epikairotita/diethn...</td>\n",
              "      <td>Μαγικές εικόνες από την «Πόλη του Πάγου» της Κ...</td>\n",
              "      <td>2024-12-29</td>\n",
              "      <td>10:40:50</td>\n",
              "      <td>Κοσμος</td>\n",
              "      <td>Newsroom</td>\n",
              "      <td>Ουρανοξύστες και ναοί φτιαγμένοι από πάγο στο ...</td>\n",
              "      <td>Το πάρκο έχει έκταση ενός εκατομμυρίου τετραγω...</td>\n",
              "      <td>Διάφορα κτίρια-ορόσημα του Χονγκ Κονγκ, του Μα...</td>\n",
              "      <td>https://www.athensvoice.gr/images/1074x600/jpg...</td>\n",
              "    </tr>\n",
              "    <tr>\n",
              "      <th>1</th>\n",
              "      <td>https://www.athensvoice.gr/epikairotita/diethn...</td>\n",
              "      <td>Καζακστάν: Η Azerbaijan Airlines ανακοίνωσε ότ...</td>\n",
              "      <td>2024-12-27</td>\n",
              "      <td>11:26:13</td>\n",
              "      <td>Κοσμος</td>\n",
              "      <td>Newsroom</td>\n",
              "      <td>Καζακστάν: Η Azerbaijan Airlines ανακοίνωσε ότ...</td>\n",
              "      <td>Φόβοι για την ασφάλεια των πτήσεων</td>\n",
              "      <td>Η Azerbaijan Airlines ανακοίνωσε ότι διακόπτει...</td>\n",
              "      <td>https://www.athensvoice.gr/images/1074x600/1/j...</td>\n",
              "    </tr>\n",
              "    <tr>\n",
              "      <th>2</th>\n",
              "      <td>https://www.athensvoice.gr/epikairotita/diethn...</td>\n",
              "      <td>Η Ρωσία ξεκίνησε τη χρήση bitcoin για να αντιμ...</td>\n",
              "      <td>2024-12-25</td>\n",
              "      <td>15:02:24</td>\n",
              "      <td>Κοσμος</td>\n",
              "      <td>Newsroom</td>\n",
              "      <td>Ο Ρώσος Πρόεδρος Βλαντιμίρ Πούτιν δήλωσε ότι κ...</td>\n",
              "      <td>Ο Βλαντιμίρ Πούτιν υποστηρίζει την εκτεταμένη ...</td>\n",
              "      <td>Εταιρείες στη Ρωσία ξεκίνησαν να χρησιμοποιούν...</td>\n",
              "      <td>https://www.athensvoice.gr/images/1074x600/1/j...</td>\n",
              "    </tr>\n",
              "    <tr>\n",
              "      <th>3</th>\n",
              "      <td>https://www.athensvoice.gr/epikairotita/politi...</td>\n",
              "      <td>Μιλένα Αποστολάκη προς Τάκη Θεοδωρικάκο: Μαζικ...</td>\n",
              "      <td>2024-12-19</td>\n",
              "      <td>10:11:59</td>\n",
              "      <td>Πολιτικη &amp; Οικονομια</td>\n",
              "      <td>Newsroom</td>\n",
              "      <td>Μιλένα Αποστολάκη προς Τάκη Θεοδωρικάκο: Μαζικ...</td>\n",
              "      <td>Η βουλευτής Βόρειου Τομέα του ΠΑΣΟΚ σημειώνει ...</td>\n",
              "      <td>Το μείζον θέμα των υπέρογκων, διαδοχικών και α...</td>\n",
              "      <td>https://www.athensvoice.gr/images/1074x600/1/j...</td>\n",
              "    </tr>\n",
              "    <tr>\n",
              "      <th>4</th>\n",
              "      <td>https://www.athensvoice.gr/life/perivallon/882...</td>\n",
              "      <td>Πόσο αυξήθηκαν οι πυρκαγιές το 2024 - Η ανασκό...</td>\n",
              "      <td>2024-12-17</td>\n",
              "      <td>18:12:54</td>\n",
              "      <td>Περιβαλλον</td>\n",
              "      <td>Newsroom</td>\n",
              "      <td>Πόσο αυξήθηκαν οι πυρκαγιές το 2024 - Η ανασκό...</td>\n",
              "      <td>Εθνικό Αστεροσκοπείο Αθηνών και WWF Ελλάς εγκα...</td>\n",
              "      <td>Η ολοκληρωμένη ανασκόπηση της αντιπυρικής περι...</td>\n",
              "      <td>https://www.athensvoice.gr/images/1074x600/jpg...</td>\n",
              "    </tr>\n",
              "  </tbody>\n",
              "</table>\n",
              "</div>\n",
              "    <div class=\"colab-df-buttons\">\n",
              "\n",
              "  <div class=\"colab-df-container\">\n",
              "    <button class=\"colab-df-convert\" onclick=\"convertToInteractive('df-afdd0c8d-af0b-4642-a128-b9fd1c836f0a')\"\n",
              "            title=\"Convert this dataframe to an interactive table.\"\n",
              "            style=\"display:none;\">\n",
              "\n",
              "  <svg xmlns=\"http://www.w3.org/2000/svg\" height=\"24px\" viewBox=\"0 -960 960 960\">\n",
              "    <path d=\"M120-120v-720h720v720H120Zm60-500h600v-160H180v160Zm220 220h160v-160H400v160Zm0 220h160v-160H400v160ZM180-400h160v-160H180v160Zm440 0h160v-160H620v160ZM180-180h160v-160H180v160Zm440 0h160v-160H620v160Z\"/>\n",
              "  </svg>\n",
              "    </button>\n",
              "\n",
              "  <style>\n",
              "    .colab-df-container {\n",
              "      display:flex;\n",
              "      gap: 12px;\n",
              "    }\n",
              "\n",
              "    .colab-df-convert {\n",
              "      background-color: #E8F0FE;\n",
              "      border: none;\n",
              "      border-radius: 50%;\n",
              "      cursor: pointer;\n",
              "      display: none;\n",
              "      fill: #1967D2;\n",
              "      height: 32px;\n",
              "      padding: 0 0 0 0;\n",
              "      width: 32px;\n",
              "    }\n",
              "\n",
              "    .colab-df-convert:hover {\n",
              "      background-color: #E2EBFA;\n",
              "      box-shadow: 0px 1px 2px rgba(60, 64, 67, 0.3), 0px 1px 3px 1px rgba(60, 64, 67, 0.15);\n",
              "      fill: #174EA6;\n",
              "    }\n",
              "\n",
              "    .colab-df-buttons div {\n",
              "      margin-bottom: 4px;\n",
              "    }\n",
              "\n",
              "    [theme=dark] .colab-df-convert {\n",
              "      background-color: #3B4455;\n",
              "      fill: #D2E3FC;\n",
              "    }\n",
              "\n",
              "    [theme=dark] .colab-df-convert:hover {\n",
              "      background-color: #434B5C;\n",
              "      box-shadow: 0px 1px 3px 1px rgba(0, 0, 0, 0.15);\n",
              "      filter: drop-shadow(0px 1px 2px rgba(0, 0, 0, 0.3));\n",
              "      fill: #FFFFFF;\n",
              "    }\n",
              "  </style>\n",
              "\n",
              "    <script>\n",
              "      const buttonEl =\n",
              "        document.querySelector('#df-afdd0c8d-af0b-4642-a128-b9fd1c836f0a button.colab-df-convert');\n",
              "      buttonEl.style.display =\n",
              "        google.colab.kernel.accessAllowed ? 'block' : 'none';\n",
              "\n",
              "      async function convertToInteractive(key) {\n",
              "        const element = document.querySelector('#df-afdd0c8d-af0b-4642-a128-b9fd1c836f0a');\n",
              "        const dataTable =\n",
              "          await google.colab.kernel.invokeFunction('convertToInteractive',\n",
              "                                                    [key], {});\n",
              "        if (!dataTable) return;\n",
              "\n",
              "        const docLinkHtml = 'Like what you see? Visit the ' +\n",
              "          '<a target=\"_blank\" href=https://colab.research.google.com/notebooks/data_table.ipynb>data table notebook</a>'\n",
              "          + ' to learn more about interactive tables.';\n",
              "        element.innerHTML = '';\n",
              "        dataTable['output_type'] = 'display_data';\n",
              "        await google.colab.output.renderOutput(dataTable, element);\n",
              "        const docLink = document.createElement('div');\n",
              "        docLink.innerHTML = docLinkHtml;\n",
              "        element.appendChild(docLink);\n",
              "      }\n",
              "    </script>\n",
              "  </div>\n",
              "\n",
              "\n",
              "    <div id=\"df-010bea74-8b0c-434c-89bd-65b1332389b8\">\n",
              "      <button class=\"colab-df-quickchart\" onclick=\"quickchart('df-010bea74-8b0c-434c-89bd-65b1332389b8')\"\n",
              "                title=\"Suggest charts\"\n",
              "                style=\"display:none;\">\n",
              "\n",
              "<svg xmlns=\"http://www.w3.org/2000/svg\" height=\"24px\"viewBox=\"0 0 24 24\"\n",
              "     width=\"24px\">\n",
              "    <g>\n",
              "        <path d=\"M19 3H5c-1.1 0-2 .9-2 2v14c0 1.1.9 2 2 2h14c1.1 0 2-.9 2-2V5c0-1.1-.9-2-2-2zM9 17H7v-7h2v7zm4 0h-2V7h2v10zm4 0h-2v-4h2v4z\"/>\n",
              "    </g>\n",
              "</svg>\n",
              "      </button>\n",
              "\n",
              "<style>\n",
              "  .colab-df-quickchart {\n",
              "      --bg-color: #E8F0FE;\n",
              "      --fill-color: #1967D2;\n",
              "      --hover-bg-color: #E2EBFA;\n",
              "      --hover-fill-color: #174EA6;\n",
              "      --disabled-fill-color: #AAA;\n",
              "      --disabled-bg-color: #DDD;\n",
              "  }\n",
              "\n",
              "  [theme=dark] .colab-df-quickchart {\n",
              "      --bg-color: #3B4455;\n",
              "      --fill-color: #D2E3FC;\n",
              "      --hover-bg-color: #434B5C;\n",
              "      --hover-fill-color: #FFFFFF;\n",
              "      --disabled-bg-color: #3B4455;\n",
              "      --disabled-fill-color: #666;\n",
              "  }\n",
              "\n",
              "  .colab-df-quickchart {\n",
              "    background-color: var(--bg-color);\n",
              "    border: none;\n",
              "    border-radius: 50%;\n",
              "    cursor: pointer;\n",
              "    display: none;\n",
              "    fill: var(--fill-color);\n",
              "    height: 32px;\n",
              "    padding: 0;\n",
              "    width: 32px;\n",
              "  }\n",
              "\n",
              "  .colab-df-quickchart:hover {\n",
              "    background-color: var(--hover-bg-color);\n",
              "    box-shadow: 0 1px 2px rgba(60, 64, 67, 0.3), 0 1px 3px 1px rgba(60, 64, 67, 0.15);\n",
              "    fill: var(--button-hover-fill-color);\n",
              "  }\n",
              "\n",
              "  .colab-df-quickchart-complete:disabled,\n",
              "  .colab-df-quickchart-complete:disabled:hover {\n",
              "    background-color: var(--disabled-bg-color);\n",
              "    fill: var(--disabled-fill-color);\n",
              "    box-shadow: none;\n",
              "  }\n",
              "\n",
              "  .colab-df-spinner {\n",
              "    border: 2px solid var(--fill-color);\n",
              "    border-color: transparent;\n",
              "    border-bottom-color: var(--fill-color);\n",
              "    animation:\n",
              "      spin 1s steps(1) infinite;\n",
              "  }\n",
              "\n",
              "  @keyframes spin {\n",
              "    0% {\n",
              "      border-color: transparent;\n",
              "      border-bottom-color: var(--fill-color);\n",
              "      border-left-color: var(--fill-color);\n",
              "    }\n",
              "    20% {\n",
              "      border-color: transparent;\n",
              "      border-left-color: var(--fill-color);\n",
              "      border-top-color: var(--fill-color);\n",
              "    }\n",
              "    30% {\n",
              "      border-color: transparent;\n",
              "      border-left-color: var(--fill-color);\n",
              "      border-top-color: var(--fill-color);\n",
              "      border-right-color: var(--fill-color);\n",
              "    }\n",
              "    40% {\n",
              "      border-color: transparent;\n",
              "      border-right-color: var(--fill-color);\n",
              "      border-top-color: var(--fill-color);\n",
              "    }\n",
              "    60% {\n",
              "      border-color: transparent;\n",
              "      border-right-color: var(--fill-color);\n",
              "    }\n",
              "    80% {\n",
              "      border-color: transparent;\n",
              "      border-right-color: var(--fill-color);\n",
              "      border-bottom-color: var(--fill-color);\n",
              "    }\n",
              "    90% {\n",
              "      border-color: transparent;\n",
              "      border-bottom-color: var(--fill-color);\n",
              "    }\n",
              "  }\n",
              "</style>\n",
              "\n",
              "      <script>\n",
              "        async function quickchart(key) {\n",
              "          const quickchartButtonEl =\n",
              "            document.querySelector('#' + key + ' button');\n",
              "          quickchartButtonEl.disabled = true;  // To prevent multiple clicks.\n",
              "          quickchartButtonEl.classList.add('colab-df-spinner');\n",
              "          try {\n",
              "            const charts = await google.colab.kernel.invokeFunction(\n",
              "                'suggestCharts', [key], {});\n",
              "          } catch (error) {\n",
              "            console.error('Error during call to suggestCharts:', error);\n",
              "          }\n",
              "          quickchartButtonEl.classList.remove('colab-df-spinner');\n",
              "          quickchartButtonEl.classList.add('colab-df-quickchart-complete');\n",
              "        }\n",
              "        (() => {\n",
              "          let quickchartButtonEl =\n",
              "            document.querySelector('#df-010bea74-8b0c-434c-89bd-65b1332389b8 button');\n",
              "          quickchartButtonEl.style.display =\n",
              "            google.colab.kernel.accessAllowed ? 'block' : 'none';\n",
              "        })();\n",
              "      </script>\n",
              "    </div>\n",
              "\n",
              "    </div>\n",
              "  </div>\n"
            ],
            "application/vnd.google.colaboratory.intrinsic+json": {
              "type": "dataframe",
              "variable_name": "df",
              "summary": "{\n  \"name\": \"df\",\n  \"rows\": 624,\n  \"fields\": [\n    {\n      \"column\": \"article_url\",\n      \"properties\": {\n        \"dtype\": \"string\",\n        \"num_unique_values\": 624,\n        \"samples\": [\n          \"https://www.athensvoice.gr/epikairotita/diethni/811721/fusikes-katastrofes-to-shedio-tis-ee-kai-i-politiki-prostasia/\",\n          \"https://www.athensvoice.gr/epikairotita/ellada/810166/kindunos-purkagias-akraia-upsilos-se-exi-perifereies-aurio-tetarti/\",\n          \"https://www.athensvoice.gr/epikairotita/ellada/854952/kindunos-purkagias-simera-156-se-tessera-nisia-tis-elladas/\"\n        ],\n        \"semantic_type\": \"\",\n        \"description\": \"\"\n      }\n    },\n    {\n      \"column\": \"title\",\n      \"properties\": {\n        \"dtype\": \"string\",\n        \"num_unique_values\": 622,\n        \"samples\": [\n          \"\\u03a0\\u03c5\\u03c1\\u03ba\\u03b1\\u03b3\\u03b9\\u03ac \\u03c3\\u03b5 \\u03b4\\u03b1\\u03c3\\u03b9\\u03ba\\u03ae \\u03ad\\u03ba\\u03c4\\u03b1\\u03c3\\u03b7 \\u03c3\\u03c4\\u03b7\\u03bd \\u03c0\\u03b5\\u03c1\\u03b9\\u03c6\\u03b5\\u03c1\\u03b5\\u03b9\\u03b1\\u03ba\\u03ae \\u0391\\u03b9\\u03b3\\u03ac\\u03bb\\u03b5\\u03c9 \\u03c3\\u03c4\\u03bf\\u03bd \\u0391\\u03c3\\u03c0\\u03c1\\u03cc\\u03c0\\u03c5\\u03c1\\u03b3\\u03bf\",\n          \"\\u03a0\\u03bf\\u03bb\\u03bb\\u03b1\\u03c0\\u03bb\\u03ac \\u03c0\\u03cd\\u03c1\\u03b9\\u03bd\\u03b1 \\u03bc\\u03ad\\u03c4\\u03c9\\u03c0\\u03b1 \\u03c3\\u03c4\\u03b7\\u03bd \\u0395\\u03bb\\u03bb\\u03ac\\u03b4\\u03b1 - 209 \\u03bd\\u03ad\\u03b5\\u03c2 \\u03c0\\u03c5\\u03c1\\u03ba\\u03b1\\u03b3\\u03b9\\u03ad\\u03c2 \\u03c7\\u03b8\\u03b5\\u03c2\",\n          \"\\u03a0\\u03bf\\u03bb\\u03cd \\u03c5\\u03c8\\u03b7\\u03bb\\u03cc\\u03c2 \\u03ba\\u03af\\u03bd\\u03b4\\u03c5\\u03bd\\u03bf\\u03c2 \\u03c0\\u03c5\\u03c1\\u03ba\\u03b1\\u03b3\\u03b9\\u03ac\\u03c2 \\u03b1\\u03cd\\u03c1\\u03b9\\u03bf (29.6) \\u03c3\\u03b5 \\u03ad\\u03be\\u03b9 \\u03a0\\u03b5\\u03c1\\u03b9\\u03c6\\u03ad\\u03c1\\u03b5\\u03b9\\u03b5\\u03c2 \\u03c4\\u03b7\\u03c2 \\u0395\\u03bb\\u03bb\\u03ac\\u03b4\\u03b1\\u03c2\"\n        ],\n        \"semantic_type\": \"\",\n        \"description\": \"\"\n      }\n    },\n    {\n      \"column\": \"date\",\n      \"properties\": {\n        \"dtype\": \"object\",\n        \"num_unique_values\": 308,\n        \"samples\": [\n          \"2023-03-13\",\n          \"2024-11-18\",\n          \"2024-08-01\"\n        ],\n        \"semantic_type\": \"\",\n        \"description\": \"\"\n      }\n    },\n    {\n      \"column\": \"time\",\n      \"properties\": {\n        \"dtype\": \"object\",\n        \"num_unique_values\": 595,\n        \"samples\": [\n          \"16:56:39\",\n          \"13:11:30\",\n          \"08:39:41\"\n        ],\n        \"semantic_type\": \"\",\n        \"description\": \"\"\n      }\n    },\n    {\n      \"column\": \"section\",\n      \"properties\": {\n        \"dtype\": \"category\",\n        \"num_unique_values\": 25,\n        \"samples\": [\n          \"\\u03a4\\u03b5\\u03c7\\u03bd\\u03bf\\u03bb\\u03bf\\u03b3\\u03b9\\u03b1 - \\u0395\\u03c0\\u03b9\\u03c3\\u03c4\\u03b7\\u03bc\\u03b7\",\n          \"TV + Series\",\n          \"\\u039a\\u03bf\\u03c3\\u03bc\\u03bf\\u03c2\"\n        ],\n        \"semantic_type\": \"\",\n        \"description\": \"\"\n      }\n    },\n    {\n      \"column\": \"author\",\n      \"properties\": {\n        \"dtype\": \"category\",\n        \"num_unique_values\": 21,\n        \"samples\": [\n          \"Newsroom\",\n          \"clima21 team\",\n          \"\\u039b\\u03b5\\u03c9\\u03bd\\u03af\\u03b4\\u03b1\\u03c2 \\u039a\\u03b1\\u03c3\\u03c4\\u03b1\\u03bd\\u03ac\\u03c2\"\n        ],\n        \"semantic_type\": \"\",\n        \"description\": \"\"\n      }\n    },\n    {\n      \"column\": \"excerpt\",\n      \"properties\": {\n        \"dtype\": \"string\",\n        \"num_unique_values\": 611,\n        \"samples\": [\n          \"\\u0391\\u03c0\\u03b1\\u03b3\\u03cc\\u03c1\\u03b5\\u03c5\\u03c3\\u03b7 \\u03ba\\u03c5\\u03ba\\u03bb\\u03bf\\u03c6\\u03bf\\u03c1\\u03af\\u03b1\\u03c2 \\u03c3\\u03c4\\u03bf\\u03bd \\u03bb\\u03cc\\u03c6\\u03bf \\u03c4\\u03bf\\u03c5 \\u039b\\u03c5\\u03ba\\u03b1\\u03b2\\u03b7\\u03c4\\u03c4\\u03bf\\u03cd \\u03bb\\u03cc\\u03b3\\u03c9 \\u03ba\\u03b9\\u03bd\\u03b4\\u03cd\\u03bd\\u03bf\\u03c5 \\u03c0\\u03c5\\u03c1\\u03ba\\u03b1\\u03b3\\u03b9\\u03ac\\u03c2 -\\u00a0\\u0397 \\u03b1\\u03bd\\u03b1\\u03ba\\u03bf\\u03af\\u03bd\\u03c9\\u03c3\\u03b7 \\u03c4\\u03bf\\u03c5 \\u0394\\u03ae\\u03bc\\u03bf\\u03c5 \\u0391\\u03b8\\u03b7\\u03bd\\u03b1\\u03af\\u03c9\\u03bd\",\n          \"\\u0399\\u03bf\\u03c5\\u03bb\\u03af\\u03b1 \\u03a4\\u03c3\\u03ad\\u03c4\\u03b7: \\u03a3\\u03c4\\u03bf \\u03cc\\u03c1\\u03b1\\u03bc\\u03ac \\u03c4\\u03b7\\u03c2 \\u03b3\\u03b9\\u03b1 \\u03c4\\u03bf \\u03bc\\u03ad\\u03bb\\u03bb\\u03bf\\u03bd \\u03c4\\u03bf\\u03c5 \\u03a3\\u0395\\u0392 \\u03b1\\u03bd\\u03b1\\u03c6\\u03ad\\u03c1\\u03b8\\u03b7\\u03ba\\u03b5 \\u03b7 \\u03c5\\u03c0\\u03bf\\u03c8\\u03ae\\u03c6\\u03b9\\u03b1 \\u03b3\\u03b9\\u03b1 \\u03c4\\u03b7\\u03bd \\u03c0\\u03c1\\u03bf\\u03b5\\u03b4\\u03c1\\u03af\\u03b1 \\u03c4\\u03bf\\u03c5\",\n          \"\\u03a6\\u03c9\\u03c4\\u03b9\\u03ac \\u03c3\\u03c4\\u03b1 \\u03a7\\u03b1\\u03bd\\u03b9\\u03ac, \\u03c3\\u03b5 \\u03b4\\u03b1\\u03c3\\u03b9\\u03ba\\u03ae \\u03ad\\u03ba\\u03c4\\u03b1\\u03c3\\u03b7 \\u2013 \\u039c\\u03b5\\u03b3\\u03ac\\u03bb\\u03b7 \\u03ba\\u03b9\\u03bd\\u03b7\\u03c4\\u03bf\\u03c0\\u03bf\\u03af\\u03b7\\u03c3\\u03b7 \\u03c4\\u03b7\\u03c2 \\u03a0\\u03c5\\u03c1\\u03bf\\u03c3\\u03b2\\u03b5\\u03c3\\u03c4\\u03b9\\u03ba\\u03ae\\u03c2\"\n        ],\n        \"semantic_type\": \"\",\n        \"description\": \"\"\n      }\n    },\n    {\n      \"column\": \"subtitle\",\n      \"properties\": {\n        \"dtype\": \"string\",\n        \"num_unique_values\": 512,\n        \"samples\": [\n          \"\\u0391\\u03c5\\u03c4\\u03bf\\u03c8\\u03af\\u03b1 \\u03ba\\u03b1\\u03b9 \\u03ba\\u03b1\\u03c4\\u03b1\\u03b3\\u03c1\\u03b1\\u03c6\\u03ae \\u03b6\\u03b7\\u03bc\\u03b9\\u03ce\\u03bd \\u03b1\\u03c0\\u03cc \\u03c4\\u03b1 \\u03b1\\u03c1\\u03bc\\u03cc\\u03b4\\u03b9\\u03b1 \\u03ba\\u03bb\\u03b9\\u03bc\\u03ac\\u03ba\\u03b9\\u03b1\",\n          \"\\u03a0\\u03bb\\u03b7\\u03c1\\u03bf\\u03c6\\u03bf\\u03c1\\u03af\\u03b5\\u03c2 \\u03c0\\u03c9\\u03c2 \\u03b7 \\u03c6\\u03c9\\u03c4\\u03b9\\u03ac \\u03c0\\u03c1\\u03bf\\u03ba\\u03bb\\u03ae\\u03b8\\u03b7\\u03ba\\u03b5 \\u03b1\\u03c0\\u03cc \\u03b7\\u03bb\\u03b5\\u03ba\\u03c4\\u03c1\\u03b9\\u03ba\\u03ae \\u03ba\\u03bf\\u03c5\\u03b2\\u03ad\\u03c1\\u03c4\\u03b1\",\n          \"\\u03a0\\u03bf\\u03b9\\u03b1 \\u03b5\\u03af\\u03bd\\u03b1\\u03b9 \\u03b7 \\u03c0\\u03b9\\u03bf \\u03b1\\u03c0\\u03bf\\u03c4\\u03b5\\u03bb\\u03b5\\u03c3\\u03bc\\u03b1\\u03c4\\u03b9\\u03ba\\u03ae \\u03bc\\u03ad\\u03b8\\u03bf\\u03b4\\u03bf\\u03c2\"\n        ],\n        \"semantic_type\": \"\",\n        \"description\": \"\"\n      }\n    },\n    {\n      \"column\": \"text_body\",\n      \"properties\": {\n        \"dtype\": \"string\",\n        \"num_unique_values\": 613,\n        \"samples\": [\n          \"\\u03a3\\u03cd\\u03c3\\u03ba\\u03b5\\u03c8\\u03b7 \\u03c5\\u03c0\\u03cc \\u03c4\\u03bf\\u03bd \\u03c0\\u03c1\\u03c9\\u03b8\\u03c5\\u03c0\\u03bf\\u03c5\\u03c1\\u03b3\\u03cc \\u039a\\u03c5\\u03c1\\u03b9\\u03ac\\u03ba\\u03bf \\u039c\\u03b7\\u03c4\\u03c3\\u03bf\\u03c4\\u03ac\\u03ba\\u03b7 \\u03b3\\u03b9\\u03b1 \\u03c4\\u03b7 \\u03bb\\u03ae\\u03c8\\u03b7 \\u03ac\\u03bc\\u03b5\\u03c3\\u03c9\\u03bd \\u03bc\\u03ad\\u03c4\\u03c1\\u03c9\\u03bd \\u03bc\\u03b5\\u03c4\\u03ac \\u03c4\\u03b9\\u03c2 \\u03c0\\u03c5\\u03c1\\u03ba\\u03b1\\u03b3\\u03b9\\u03ad\\u03c2 \\u03c3\\u03c4\\u03bf\\u03bd \\u0388\\u03b2\\u03c1\\u03bf \\u03ba\\u03b1\\u03b9 \\u03c3\\u03c4\\u03b7\\u03bd \\u03a0\\u03ac\\u03c1\\u03bd\\u03b7\\u03b8\\u03b1 \\u03c0\\u03c1\\u03b1\\u03b3\\u03bc\\u03b1\\u03c4\\u03bf\\u03c0\\u03bf\\u03b9\\u03ae\\u03b8\\u03b7\\u03ba\\u03b5 \\u03c3\\u03ae\\u03bc\\u03b5\\u03c1\\u03b1 \\u03c3\\u03c4\\u03bf \\u039c\\u03ad\\u03b3\\u03b1\\u03c1\\u03bf \\u039c\\u03b1\\u03be\\u03af\\u03bc\\u03bf\\u03c5. \\u039c\\u03b5\\u03c4\\u03b1 \\u03c4\\u03b7 \\u03c3\\u03cd\\u03c3\\u03ba\\u03b5\\u03c8\\u03b7, \\u03bf \\u03c5\\u03c0\\u03bf\\u03c5\\u03c1\\u03b3\\u03cc\\u03c2 \\u03a0\\u03b5\\u03c1\\u03b9\\u03b2\\u03ac\\u03bb\\u03bb\\u03bf\\u03bd\\u03c4\\u03bf\\u03c2 \\u03ba\\u03b1\\u03b9 \\u0395\\u03bd\\u03ad\\u03c1\\u03b3\\u03b5\\u03b9\\u03b1\\u03c2 \\u0398\\u03b5\\u03cc\\u03b4\\u03c9\\u03c1\\u03bf\\u03c2 \\u03a3\\u03ba\\u03c5\\u03bb\\u03b1\\u03ba\\u03ac\\u03ba\\u03b7\\u03c2 \\u03ad\\u03ba\\u03b1\\u03bd\\u03b5 \\u03c4\\u03b7\\u03bd \\u03b1\\u03ba\\u03cc\\u03bb\\u03bf\\u03c5\\u03b8\\u03b7 \\u03b4\\u03ae\\u03bb\\u03c9\\u03c3\\u03b7: \\u00ab\\u03a3\\u03c4\\u03b7\\u03bd \\u03ba\\u03c5\\u03b2\\u03b5\\u03c1\\u03bd\\u03b7\\u03c4\\u03b9\\u03ba\\u03ae \\u03c3\\u03cd\\u03c3\\u03ba\\u03b5\\u03c8\\u03b7 \\u03c0\\u03bf\\u03c5 \\u03ad\\u03b3\\u03b9\\u03bd\\u03b5 \\u03c3\\u03c5\\u03b6\\u03b7\\u03c4\\u03ae\\u03b8\\u03b7\\u03ba\\u03b1\\u03bd \\u03c4\\u03b1 \\u03ac\\u03bc\\u03b5\\u03c3\\u03b1 \\u03bc\\u03ad\\u03c4\\u03c1\\u03b1 \\u03c0\\u03bf\\u03c5 \\u03bb\\u03b1\\u03bc\\u03b2\\u03ac\\u03bd\\u03b5\\u03b9 \\u03b7 \\u03ba\\u03c5\\u03b2\\u03ad\\u03c1\\u03bd\\u03b7\\u03c3\\u03b7 \\u03b3\\u03b9\\u03b1 \\u03c4\\u03bf\\u03bd \\u0388\\u03b2\\u03c1\\u03bf \\u03ba\\u03b1\\u03b9 \\u03c4\\u03b7\\u03bd \\u03a0\\u03ac\\u03c1\\u03bd\\u03b7\\u03b8\\u03b1, \\u03b7 \\u03c0\\u03bf\\u03c1\\u03b5\\u03af\\u03b1 \\u03c4\\u03c9\\u03bd \\u03bc\\u03ad\\u03c4\\u03c1\\u03c9\\u03bd \\u03b3\\u03b9\\u03b1 \\u03c4\\u03b9\\u03c2 \\u03c0\\u03c1\\u03bf\\u03b7\\u03b3\\u03bf\\u03cd\\u03bc\\u03b5\\u03bd\\u03b5\\u03c2 \\u03c0\\u03c5\\u03c1\\u03ba\\u03b1\\u03b3\\u03b9\\u03ad\\u03c2 \\u03ba\\u03b1\\u03b9 \\u03b3\\u03b5\\u03bd\\u03b9\\u03ba\\u03cc\\u03c4\\u03b5\\u03c1\\u03b1 \\u03c4\\u03bf \\u03b8\\u03ad\\u03bc\\u03b1 \\u03c4\\u03b7\\u03c2 \\u03c0\\u03c1\\u03cc\\u03bb\\u03b7\\u03c8\\u03b7\\u03c2 \\u03ba\\u03b1\\u03b9 \\u03c0\\u03c1\\u03bf\\u03c3\\u03c4\\u03b1\\u03c3\\u03af\\u03b1\\u03c2 \\u03c4\\u03c9\\u03bd \\u03b4\\u03b1\\u03c3\\u03ce\\u03bd \\u03bc\\u03b1\\u03c2. \\u00bb\\u0397 \\u03b4\\u03b1\\u03c3\\u03b9\\u03ba\\u03ae \\u03c5\\u03c0\\u03b7\\u03c1\\u03b5\\u03c3\\u03af\\u03b1 \\u03ba\\u03b7\\u03c1\\u03cd\\u03c3\\u03c3\\u03b5\\u03b9 \\u03ac\\u03bc\\u03b5\\u03c3\\u03b1, \\u03bc\\u03b5 \\u03b4\\u03b9\\u03bf\\u03b9\\u03ba\\u03b7\\u03c4\\u03b9\\u03ba\\u03ad\\u03c2 \\u03c0\\u03c1\\u03ac\\u03be\\u03b5\\u03b9\\u03c2, \\u03c4\\u03b9\\u03c2 \\u03c0\\u03b5\\u03c1\\u03b9\\u03bf\\u03c7\\u03ad\\u03c2 \\u03b1\\u03c5\\u03c4\\u03ad\\u03c2 \\u03b1\\u03bd\\u03b1\\u03b4\\u03b1\\u03c3\\u03c9\\u03c4\\u03ad\\u03b5\\u03c2. \\u039b\\u03b1\\u03bc\\u03b2\\u03ac\\u03bd\\u03bf\\u03c5\\u03bc\\u03b5 \\u03c6\\u03c1\\u03bf\\u03bd\\u03c4\\u03af\\u03b4\\u03b1 \\u03b3\\u03b9\\u03b1 \\u03c4\\u03b7\\u03bd \\u03ac\\u03b3\\u03c1\\u03b9\\u03b1 \\u03c0\\u03b1\\u03bd\\u03af\\u03b4\\u03b1, \\u03bd\\u03b1 \\u03ad\\u03c7\\u03bf\\u03c5\\u03bd \\u03b4\\u03b7\\u03bb\\u03b1\\u03b4\\u03ae \\u03c4\\u03b1 \\u03b6\\u03ce\\u03b1 \\u03c0\\u03bf\\u03c5 \\u03b5\\u03c0\\u03b9\\u03b2\\u03af\\u03c9\\u03c3\\u03b1\\u03bd \\u03b6\\u03c9\\u03bf\\u03c4\\u03c1\\u03bf\\u03c6\\u03ad\\u03c2 \\u03ba\\u03b1\\u03b9 \\u03bd\\u03b5\\u03c1\\u03cc \\u03b3\\u03b9\\u03b1 \\u03c4\\u03bf \\u03b4\\u03b9\\u03ac\\u03c3\\u03c4\\u03b7\\u03bc\\u03b1 \\u03c4\\u03c9\\u03bd \\u03b5\\u03c0\\u03cc\\u03bc\\u03b5\\u03bd\\u03c9\\u03bd \\u03bc\\u03b7\\u03bd\\u03ce\\u03bd. \\u039a\\u03b1\\u03b9 \\u2013\\u03c4\\u03bf \\u03c0\\u03b9\\u03bf \\u03c3\\u03b7\\u03bc\\u03b1\\u03bd\\u03c4\\u03b9\\u03ba\\u03cc\\u2013 \\u03be\\u03b5\\u03ba\\u03b9\\u03bd\\u03bf\\u03cd\\u03bd \\u03bf\\u03b9 \\u03b4\\u03b9\\u03b1\\u03b4\\u03b9\\u03ba\\u03b1\\u03c3\\u03af\\u03b5\\u03c2 \\u03ba\\u03b1\\u03b9 \\u03b5\\u03b4\\u03ce, \\u03cc\\u03c0\\u03c9\\u03c2 \\u03ba\\u03b1\\u03b9 \\u03b3\\u03b9\\u03b1 \\u03c4\\u03b9\\u03c2 \\u03c0\\u03c1\\u03bf\\u03b7\\u03b3\\u03bf\\u03cd\\u03bc\\u03b5\\u03bd\\u03b5\\u03c2 \\u03c0\\u03c5\\u03c1\\u03ba\\u03b1\\u03b3\\u03b9\\u03ad\\u03c2, \\u03b3\\u03b9\\u03b1 \\u03c4\\u03b1 \\u03b1\\u03bd\\u03c4\\u03b9\\u03b4\\u03b9\\u03b1\\u03b2\\u03c1\\u03c9\\u03c4\\u03b9\\u03ba\\u03ac \\u03ba\\u03b1\\u03b9 \\u03b1\\u03bd\\u03c4\\u03b9\\u03c0\\u03bb\\u03b7\\u03bc\\u03bc\\u03c5\\u03c1\\u03b9\\u03ba\\u03ac \\u03ad\\u03c1\\u03b3\\u03b1 \\u03c3\\u03c4\\u03b9\\u03c2 \\u03bb\\u03b5\\u03ba\\u03ac\\u03bd\\u03b5\\u03c2 \\u03b1\\u03c0\\u03bf\\u03c1\\u03c1\\u03bf\\u03ae\\u03c2 \\u03c0\\u03bf\\u03c5 \\u03ad\\u03c7\\u03bf\\u03c5\\u03bd \\u03b5\\u03c0\\u03b7\\u03c1\\u03b5\\u03b1\\u03c3\\u03c4\\u03b5\\u03af. \\u039a\\u03bf\\u03c1\\u03bc\\u03bf\\u03c6\\u03c1\\u03ac\\u03b3\\u03bc\\u03b1\\u03c4\\u03b1 \\u03b4\\u03b7\\u03bb\\u03b1\\u03b4\\u03ae \\u03ba\\u03b1\\u03b9 \\u03ac\\u03bb\\u03bb\\u03b1 \\u03c4\\u03b5\\u03c7\\u03bd\\u03b9\\u03ba\\u03ac \\u03ad\\u03c1\\u03b3\\u03b1, \\u03c0\\u03bf\\u03c5 \\u03ad\\u03c7\\u03bf\\u03c5\\u03bd \\u03b1\\u03c0\\u03cc\\u03bb\\u03c5\\u03c4\\u03b7 \\u03c0\\u03c1\\u03bf\\u03c4\\u03b5\\u03c1\\u03b1\\u03b9\\u03cc\\u03c4\\u03b7\\u03c4\\u03b1. \\u00bb\\u0395\\u03c0\\u03af\\u03c3\\u03b7\\u03c2, \\u03b1\\u03c0\\u03cc\\u03bb\\u03c5\\u03c4\\u03b7 \\u03c0\\u03c1\\u03bf\\u03c4\\u03b5\\u03c1\\u03b1\\u03b9\\u03cc\\u03c4\\u03b7\\u03c4\\u03b1 \\u03ad\\u03c7\\u03b5\\u03b9 \\u03bf \\u03ba\\u03b1\\u03b8\\u03b1\\u03c1\\u03b9\\u03c3\\u03bc\\u03cc\\u03c2 \\u03c4\\u03c9\\u03bd \\u03c1\\u03b5\\u03bc\\u03ac\\u03c4\\u03c9\\u03bd \\u03c3\\u03c4\\u03b9\\u03c2 \\u03c0\\u03b5\\u03c1\\u03b9\\u03bf\\u03c7\\u03ad\\u03c2 \\u03b1\\u03c5\\u03c4\\u03ad\\u03c2, \\u03bc\\u03b5 \\u03b5\\u03c5\\u03b8\\u03cd\\u03bd\\u03b7 \\u03c4\\u03c9\\u03bd \\u03a0\\u03b5\\u03c1\\u03b9\\u03c6\\u03b5\\u03c1\\u03b5\\u03b9\\u03ce\\u03bd. \\u0393\\u03b9\\u03b1 \\u03c4\\u03bf\\u03c5\\u03c2 \\u03c0\\u03bb\\u03b7\\u03b3\\u03ad\\u03bd\\u03c4\\u03b5\\u03c2 \\u03c3\\u03c4\\u03b9\\u03c2 \\u03c0\\u03b5\\u03c1\\u03b9\\u03bf\\u03c7\\u03ad\\u03c2 \\u03b1\\u03c5\\u03c4\\u03ad\\u03c2 \\u03b1\\u03bd\\u03b1\\u03ba\\u03bf\\u03af\\u03bd\\u03c9\\u03c3\\u03b5 \\u03ae\\u03b4\\u03b7 \\u03c7\\u03b8\\u03b5\\u03c2, \\u03b1\\u03c0\\u03cc \\u03c4\\u03b7\\u03bd \\u0391\\u03bb\\u03b5\\u03be\\u03b1\\u03bd\\u03b4\\u03c1\\u03bf\\u03cd\\u03c0\\u03bf\\u03bb\\u03b7, \\u03c4\\u03bf \\u03ba\\u03c5\\u03b2\\u03b5\\u03c1\\u03bd\\u03b7\\u03c4\\u03b9\\u03ba\\u03cc \\u03ba\\u03bb\\u03b9\\u03bc\\u03ac\\u03ba\\u03b9\\u03bf \\u03cc\\u03c0\\u03bf\\u03c5 \\u03c0\\u03ae\\u03b3\\u03b5 \\u03b5\\u03ba\\u03b5\\u03af \\u03c4\\u03b1 \\u03bc\\u03ad\\u03c4\\u03c1\\u03b1 \\u03c0\\u03bf\\u03c5 \\u03bb\\u03b1\\u03bc\\u03b2\\u03ac\\u03bd\\u03bf\\u03bd\\u03c4\\u03b1\\u03b9 \\u03b3\\u03b9\\u03b1 \\u03b1\\u03c5\\u03c4\\u03ad\\u03c2 \\u03c4\\u03b9\\u03c2 \\u03c0\\u03b5\\u03c1\\u03b9\\u03c0\\u03c4\\u03ce\\u03c3\\u03b5\\u03b9\\u03c2\\u00bb. \\u0395\\u03c0\\u03b9\\u03c3\\u03b7\\u03bc\\u03b1\\u03af\\u03bd\\u03b5\\u03c4\\u03b1\\u03b9 \\u03c0\\u03c9\\u03c2 \\u03b3\\u03b9\\u03b1 \\u03c4\\u03b7\\u03bd \\u03c5\\u03bb\\u03bf\\u03c0\\u03bf\\u03af\\u03b7\\u03c3\\u03b7 \\u03c4\\u03c9\\u03bd \\u03c4\\u03b5\\u03c7\\u03bd\\u03b9\\u03ba\\u03ce\\u03bd \\u03ad\\u03c1\\u03b3\\u03c9\\u03bd \\u03c0\\u03bf\\u03c5 \\u03b1\\u03bd\\u03b1\\u03c6\\u03ad\\u03c1\\u03bf\\u03bd\\u03c4\\u03b1\\u03b9 \\u03c0\\u03b9\\u03bf \\u03c0\\u03ac\\u03bd\\u03c9 \\u03b1\\u03c0\\u03bf\\u03c6\\u03b1\\u03c3\\u03af\\u03c3\\u03c4\\u03b7\\u03ba\\u03b5 \\u03b7 \\u03b5\\u03bd\\u03b5\\u03c1\\u03b3\\u03bf\\u03c0\\u03bf\\u03af\\u03b7\\u03c3\\u03b7 \\u03c4\\u03bf\\u03c5 \\u03bd\\u03ad\\u03bf\\u03c5 \\u03b8\\u03b5\\u03c3\\u03bc\\u03bf\\u03cd \\u03c4\\u03c9\\u03bd \\u00ab\\u03b1\\u03bd\\u03b1\\u03b4\\u03cc\\u03c7\\u03c9\\u03bd \\u03b1\\u03c0\\u03bf\\u03ba\\u03b1\\u03c4\\u03ac\\u03c3\\u03c4\\u03b1\\u03c3\\u03b7\\u03c2\\u00bb, \\u03b5\\u03bd\\u03ce \\u03b8\\u03b1 \\u03b1\\u03be\\u03b9\\u03bf\\u03c0\\u03bf\\u03b9\\u03b7\\u03b8\\u03bf\\u03cd\\u03bd \\u03ba\\u03b1\\u03b9 \\u03bf\\u03b9 \\u03b4\\u03b1\\u03c3\\u03b9\\u03ba\\u03bf\\u03af \\u03c3\\u03c5\\u03bd\\u03b5\\u03c4\\u03b1\\u03b9\\u03c1\\u03b9\\u03c3\\u03bc\\u03bf\\u03af. \\u03a3\\u03c4\\u03b7 \\u03c3\\u03cd\\u03c3\\u03ba\\u03b5\\u03c8\\u03b7 \\u03bc\\u03b5\\u03c4\\u03b5\\u03af\\u03c7\\u03b1\\u03bd \\u03bf \\u03c5\\u03c0\\u03bf\\u03c5\\u03c1\\u03b3\\u03cc\\u03c2 \\u03a0\\u03b5\\u03c1\\u03b9\\u03b2\\u03ac\\u03bb\\u03bb\\u03bf\\u03bd\\u03c4\\u03bf\\u03c2 \\u03ba\\u03b1\\u03b9 \\u0395\\u03bd\\u03ad\\u03c1\\u03b3\\u03b5\\u03b9\\u03b1\\u03c2 \\u0398\\u03b5\\u03cc\\u03b4\\u03c9\\u03c1\\u03bf\\u03c2 \\u03a3\\u03ba\\u03c5\\u03bb\\u03b1\\u03ba\\u03ac\\u03ba\\u03b7\\u03c2, \\u03bf \\u03c5\\u03c0\\u03bf\\u03c5\\u03c1\\u03b3\\u03cc\\u03c2 \\u039a\\u03bb\\u03b9\\u03bc\\u03b1\\u03c4\\u03b9\\u03ba\\u03ae\\u03c2 \\u039a\\u03c1\\u03af\\u03c3\\u03b7\\u03c2 \\u03ba\\u03b1\\u03b9 \\u03a0\\u03bf\\u03bb\\u03b9\\u03c4\\u03b9\\u03ba\\u03ae\\u03c2 \\u03a0\\u03c1\\u03bf\\u03c3\\u03c4\\u03b1\\u03c3\\u03af\\u03b1\\u03c2 \\u0392\\u03b1\\u03c3\\u03af\\u03bb\\u03b7\\u03c2 \\u039a\\u03b9\\u03ba\\u03af\\u03bb\\u03b9\\u03b1\\u03c2, \\u03bf\\u03b9 \\u03c5\\u03c0\\u03bf\\u03c5\\u03c1\\u03b3\\u03bf\\u03af \\u0395\\u03c0\\u03b9\\u03ba\\u03c1\\u03b1\\u03c4\\u03b5\\u03af\\u03b1\\u03c2 \\u03a3\\u03c4\\u03b1\\u03cd\\u03c1\\u03bf\\u03c2 \\u03a0\\u03b1\\u03c0\\u03b1\\u03c3\\u03c4\\u03b1\\u03cd\\u03c1\\u03bf\\u03c5, \\u0386\\u03ba\\u03b7\\u03c2 \\u03a3\\u03ba\\u03ad\\u03c1\\u03c4\\u03c3\\u03bf\\u03c2 \\u03ba\\u03b1\\u03b9 \\u039c\\u03ac\\u03ba\\u03b7\\u03c2 \\u0392\\u03bf\\u03c1\\u03af\\u03b4\\u03b7\\u03c2, \\u03bf \\u03b1\\u03bd\\u03b1\\u03c0\\u03bb\\u03b7\\u03c1\\u03c9\\u03c4\\u03ae\\u03c2 \\u03c5\\u03c0\\u03bf\\u03c5\\u03c1\\u03b3\\u03cc\\u03c2 \\u0395\\u03b8\\u03bd\\u03b9\\u03ba\\u03ae\\u03c2 \\u039f\\u03b9\\u03ba\\u03bf\\u03bd\\u03bf\\u03bc\\u03af\\u03b1\\u03c2 \\u03ba\\u03b1\\u03b9 \\u039f\\u03b9\\u03ba\\u03bf\\u03bd\\u03bf\\u03bc\\u03b9\\u03ba\\u03ce\\u03bd \\u039d\\u03af\\u03ba\\u03bf\\u03c2 \\u03a0\\u03b1\\u03c0\\u03b1\\u03b8\\u03b1\\u03bd\\u03ac\\u03c3\\u03b7\\u03c2, \\u03bf \\u03b1\\u03bd\\u03b1\\u03c0\\u03bb\\u03b7\\u03c1\\u03c9\\u03c4\\u03ae\\u03c2 \\u03c5\\u03c0\\u03bf\\u03c5\\u03c1\\u03b3\\u03cc\\u03c2 \\u0395\\u03c3\\u03c9\\u03c4\\u03b5\\u03c1\\u03b9\\u03ba\\u03ce\\u03bd \\u0398\\u03b5\\u03cc\\u03b4\\u03c9\\u03c1\\u03bf\\u03c2 \\u039b\\u03b9\\u03b2\\u03ac\\u03bd\\u03b9\\u03bf\\u03c2, \\u03bf \\u03c5\\u03c6\\u03c5\\u03c0\\u03bf\\u03c5\\u03c1\\u03b3\\u03cc\\u03c2 \\u03c0\\u03b1\\u03c1\\u03ac \\u03c4\\u03c9 \\u03c0\\u03c1\\u03c9\\u03b8\\u03c5\\u03c0\\u03bf\\u03c5\\u03c1\\u03b3\\u03ce \\u0393\\u03b9\\u03ac\\u03bd\\u03bd\\u03b7\\u03c2 \\u039c\\u03c0\\u03c1\\u03b1\\u03c4\\u03ac\\u03ba\\u03bf\\u03c2, \\u03bf \\u03c5\\u03c6\\u03c5\\u03c0\\u03bf\\u03c5\\u03c1\\u03b3\\u03cc\\u03c2 \\u039a\\u03bb\\u03b9\\u03bc\\u03b1\\u03c4\\u03b9\\u03ba\\u03ae\\u03c2 \\u039a\\u03c1\\u03af\\u03c3\\u03b7\\u03c2 \\u03ba\\u03b1\\u03b9 \\u03a0\\u03bf\\u03bb\\u03b9\\u03c4\\u03b9\\u03ba\\u03ae\\u03c2 \\u03a0\\u03c1\\u03bf\\u03c3\\u03c4\\u03b1\\u03c3\\u03af\\u03b1\\u03c2 \\u03a7\\u03c1\\u03ae\\u03c3\\u03c4\\u03bf\\u03c2 \\u03a4\\u03c1\\u03b9\\u03b1\\u03bd\\u03c4\\u03cc\\u03c0\\u03bf\\u03c5\\u03bb\\u03bf\\u03c2, \\u03bf \\u03ba\\u03c5\\u03b2\\u03b5\\u03c1\\u03bd\\u03b7\\u03c4\\u03b9\\u03ba\\u03cc\\u03c2 \\u03b5\\u03ba\\u03c0\\u03c1\\u03cc\\u03c3\\u03c9\\u03c0\\u03bf\\u03c2 \\u03a0\\u03b1\\u03cd\\u03bb\\u03bf\\u03c2 \\u039c\\u03b1\\u03c1\\u03b9\\u03bd\\u03ac\\u03ba\\u03b7\\u03c2, \\u03bf \\u0393\\u03b5\\u03bd\\u03b9\\u03ba\\u03cc\\u03c2 \\u0393\\u03c1\\u03b1\\u03bc\\u03bc\\u03b1\\u03c4\\u03ad\\u03b1\\u03c2 \\u0394\\u03b1\\u03c3\\u03ce\\u03bd \\u0395\\u03c5\\u03c3\\u03c4\\u03ac\\u03b8\\u03b9\\u03bf\\u03c2 \\u03a3\\u03c4\\u03b1\\u03b8\\u03cc\\u03c0\\u03bf\\u03c5\\u03bb\\u03bf\\u03c2, \\u03bf \\u0393\\u03b5\\u03bd\\u03b9\\u03ba\\u03cc\\u03c2 \\u0393\\u03c1\\u03b1\\u03bc\\u03bc\\u03b1\\u03c4\\u03ad\\u03b1\\u03c2 \\u03a0\\u03b5\\u03c1\\u03b9\\u03b2\\u03ac\\u03bb\\u03bb\\u03bf\\u03bd\\u03c4\\u03bf\\u03c2 \\u03a0\\u03ad\\u03c4\\u03c1\\u03bf\\u03c2 \\u0392\\u03b1\\u03c1\\u03b5\\u03bb\\u03af\\u03b4\\u03b7\\u03c2, \\u03bf \\u0393\\u03b5\\u03bd\\u03b9\\u03ba\\u03cc\\u03c2 \\u0394\\u03b9\\u03b5\\u03c5\\u03b8\\u03c5\\u03bd\\u03c4\\u03ae\\u03c2 \\u0394\\u03b1\\u03c3\\u03ce\\u03bd \\u03ba\\u03b1\\u03b9 \\u0394\\u03b1\\u03c3\\u03b9\\u03ba\\u03bf\\u03cd \\u03a0\\u03b5\\u03c1\\u03b9\\u03b2\\u03ac\\u03bb\\u03bb\\u03bf\\u03bd\\u03c4\\u03bf\\u03c2 \\u03c4\\u03bf\\u03c5 \\u03a5\\u03a0\\u0395\\u039d \\u0392\\u03b1\\u03b3\\u03b3\\u03ad\\u03bb\\u03b7\\u03c2 \\u0393\\u03ba\\u03bf\\u03c5\\u03bd\\u03c4\\u03bf\\u03cd\\u03c6\\u03b1\\u03c2, \\u03b7 \\u0393\\u03b5\\u03bd\\u03b9\\u03ba\\u03ae \\u0393\\u03c1\\u03b1\\u03bc\\u03bc\\u03b1\\u03c4\\u03ad\\u03b1\\u03c2 \\u03a3\\u03c5\\u03bd\\u03c4\\u03bf\\u03bd\\u03b9\\u03c3\\u03bc\\u03bf\\u03cd \\u0395\\u03cd\\u03b7 \\u0394\\u03c1\\u03b1\\u03bc\\u03b1\\u03bb\\u03b9\\u03ce\\u03c4\\u03b7 \\u03ba\\u03b1\\u03b9 \\u03bf \\u03b5\\u03b9\\u03b4\\u03b9\\u03ba\\u03cc\\u03c2 \\u03c3\\u03cd\\u03bc\\u03b2\\u03bf\\u03c5\\u03bb\\u03bf\\u03c2 \\u03c4\\u03bf\\u03c5 \\u03c0\\u03c1\\u03c9\\u03b8\\u03c5\\u03c0\\u03bf\\u03c5\\u03c1\\u03b3\\u03bf\\u03cd \\u03c3\\u03b5 \\u03b8\\u03ad\\u03bc\\u03b1\\u03c4\\u03b1 \\u03a0\\u03b5\\u03c1\\u03b9\\u03b2\\u03ac\\u03bb\\u03bb\\u03bf\\u03bd\\u03c4\\u03bf\\u03c2 \\u0393\\u03b9\\u03ce\\u03c1\\u03b3\\u03bf\\u03c2 \\u0391\\u03bc\\u03c5\\u03c1\\u03ac\\u03c2.\",\n          \"\\u03a0\\u03bf\\u03bb\\u03cd \\u03c5\\u03c8\\u03b7\\u03bb\\u03cc\\u03c2 \\u03ba\\u03af\\u03bd\\u03b4\\u03c5\\u03bd\\u03bf\\u03c2 \\u03c0\\u03c5\\u03c1\\u03ba\\u03b1\\u03b3\\u03b9\\u03ac\\u03c2 (\\u03ba\\u03b1\\u03c4\\u03b7\\u03b3\\u03bf\\u03c1\\u03af\\u03b1 \\u03ba\\u03b9\\u03bd\\u03b4\\u03cd\\u03bd\\u03bf\\u03c5 4) \\u03b1\\u03bd\\u03b1\\u03bc\\u03ad\\u03bd\\u03b5\\u03c4\\u03b1\\u03b9 \\u03c4\\u03b7 \\u0394\\u03b5\\u03c5\\u03c4\\u03ad\\u03c1\\u03b1 29 \\u0399\\u03bf\\u03c5\\u03bb\\u03af\\u03bf\\u03c5 2024. \\u03a3\\u03cd\\u03bc\\u03c6\\u03c9\\u03bd\\u03b1 \\u03bc\\u03b5 \\u03c4\\u03bf \\u03a7\\u03ac\\u03c1\\u03c4\\u03b7 \\u03a0\\u03c1\\u03cc\\u03b2\\u03bb\\u03b5\\u03c8\\u03b7\\u03c2 \\u039a\\u03b9\\u03bd\\u03b4\\u03cd\\u03bd\\u03bf\\u03c5 \\u03a0\\u03c5\\u03c1\\u03ba\\u03b1\\u03b3\\u03b9\\u03ac\\u03c2 \\u03c0\\u03bf\\u03c5 \\u03b5\\u03ba\\u03b4\\u03af\\u03b4\\u03b5\\u03b9 \\u03b7 \\u0393\\u03b5\\u03bd\\u03b9\\u03ba\\u03ae \\u0393\\u03c1\\u03b1\\u03bc\\u03bc\\u03b1\\u03c4\\u03b5\\u03af\\u03b1 \\u03a0\\u03bf\\u03bb\\u03b9\\u03c4\\u03b9\\u03ba\\u03ae\\u03c2 \\u03a0\\u03c1\\u03bf\\u03c3\\u03c4\\u03b1\\u03c3\\u03af\\u03b1\\u03c2 \\u03c4\\u03bf\\u03c5 \\u03a5\\u03c0\\u03bf\\u03c5\\u03c1\\u03b3\\u03b5\\u03af\\u03bf\\u03c5 \\u039a\\u03bb\\u03b9\\u03bc\\u03b1\\u03c4\\u03b9\\u03ba\\u03ae\\u03c2 \\u039a\\u03c1\\u03af\\u03c3\\u03b7\\u03c2 & \\u03a0\\u03bf\\u03bb\\u03b9\\u03c4\\u03b9\\u03ba\\u03ae\\u03c2 \\u03a0\\u03c1\\u03bf\\u03c3\\u03c4\\u03b1\\u03c3\\u03af\\u03b1\\u03c2 (civilprotection.gov.gr), \\u03b3\\u03b9\\u03b1 \\u03b1\\u03cd\\u03c1\\u03b9\\u03bf \\u0394\\u03b5\\u03c5\\u03c4\\u03ad\\u03c1\\u03b1 29 \\u0399\\u03bf\\u03c5\\u03bb\\u03af\\u03bf\\u03c5 2024, \\u03c0\\u03c1\\u03bf\\u03b2\\u03bb\\u03ad\\u03c0\\u03b5\\u03c4\\u03b1\\u03b9 \\u03c0\\u03bf\\u03bb\\u03cd \\u03c5\\u03c8\\u03b7\\u03bb\\u03cc\\u03c2 \\u03ba\\u03af\\u03bd\\u03b4\\u03c5\\u03bd\\u03bf\\u03c2 \\u03c0\\u03c5\\u03c1\\u03ba\\u03b1\\u03b3\\u03b9\\u03ac\\u03c2 (\\u03ba\\u03b1\\u03c4\\u03b7\\u03b3\\u03bf\\u03c1\\u03af\\u03b1 \\u03ba\\u03b9\\u03bd\\u03b4\\u03cd\\u03bd\\u03bf\\u03c5 4) \\u03b3\\u03b9\\u03b1 \\u03c4\\u03b9\\u03c2 \\u03b5\\u03be\\u03ae\\u03c2 \\u03c0\\u03b5\\u03c1\\u03b9\\u03bf\\u03c7\\u03ad\\u03c2: \\u03a0\\u03bf\\u03bb\\u03cd \\u03c5\\u03c8\\u03b7\\u03bb\\u03cc\\u03c2 \\u03ba\\u03af\\u03bd\\u03b4\\u03c5\\u03bd\\u03bf\\u03c2 \\ud83d\\udd25 \\u03ba\\u03b1\\u03c4\\u03b7\\u03b3\\u03bf\\u03c1\\u03af\\u03b1\\u03c2 4\\ufe0f\\u20e3 \\u03b3\\u03b9\\u03b1 \\u03b1\\u03cd\\u03c1\\u03b9\\u03bf \\u0394\\u03b5\\u03c5\\u03c4\\u03ad\\u03c1\\u03b1 29 \\u0399\\u03bf\\u03c5\\u03bb\\u03af\\u03bf\\u03c5 \\u03c3\\u03b5:\\n\\r\\n\\ud83d\\udd36 #\\u0391\\u03c4\\u03c4\\u03b9\\u03ba\\u03ae\\r\\n\\ud83d\\udd36 #\\u0392\\u03bf\\u03b9\\u03c9\\u03c4\\u03af\\u03b1 #\\u0395\\u03cd\\u03b2\\u03bf\\u03b9\\u03b1 #\\u03a6\\u03b8\\u03b9\\u03ce\\u03c4\\u03b9\\u03b4\\u03b1\\r\\n\\ud83d\\udd36 #\\u039a\\u03bf\\u03c1\\u03b9\\u03bd\\u03b8\\u03af\\u03b1 & #\\u0391\\u03c1\\u03b3\\u03bf\\u03bb\\u03af\\u03b4\\u03b1\\n\\r\\n\\ud83d\\udd17https://t.co/MWZbksYG11\\n\\r\\n\\u2139\\ufe0f https://t.co/RFfYoShzB5 pic.twitter.com/4NM62z1i6t \\u0397 \\u0393\\u03b5\\u03bd\\u03b9\\u03ba\\u03ae \\u0393\\u03c1\\u03b1\\u03bc\\u03bc\\u03b1\\u03c4\\u03b5\\u03af\\u03b1 \\u03a0\\u03bf\\u03bb\\u03b9\\u03c4\\u03b9\\u03ba\\u03ae\\u03c2 \\u03a0\\u03c1\\u03bf\\u03c3\\u03c4\\u03b1\\u03c3\\u03af\\u03b1\\u03c2 (civilprotection.gov.gr) \\u03c4\\u03bf\\u03c5 \\u03a5\\u03c0\\u03bf\\u03c5\\u03c1\\u03b3\\u03b5\\u03af\\u03bf\\u03c5 \\u039a\\u03bb\\u03b9\\u03bc\\u03b1\\u03c4\\u03b9\\u03ba\\u03ae\\u03c2 \\u039a\\u03c1\\u03af\\u03c3\\u03b7\\u03c2 & \\u03a0\\u03bf\\u03bb\\u03b9\\u03c4\\u03b9\\u03ba\\u03ae\\u03c2 \\u03a0\\u03c1\\u03bf\\u03c3\\u03c4\\u03b1\\u03c3\\u03af\\u03b1\\u03c2 \\u03ad\\u03c7\\u03b5\\u03b9 \\u03b5\\u03bd\\u03b7\\u03bc\\u03b5\\u03c1\\u03ce\\u03c3\\u03b5\\u03b9 \\u03c4\\u03b9\\u03c2 \\u03b1\\u03c1\\u03bc\\u03cc\\u03b4\\u03b9\\u03b5\\u03c2 \\u03c5\\u03c0\\u03b7\\u03c1\\u03b5\\u03c3\\u03b9\\u03b1\\u03ba\\u03ac \\u03b5\\u03bc\\u03c0\\u03bb\\u03b5\\u03ba\\u03cc\\u03bc\\u03b5\\u03bd\\u03b5\\u03c2 \\u03ba\\u03c1\\u03b1\\u03c4\\u03b9\\u03ba\\u03ad\\u03c2 \\u03c5\\u03c0\\u03b7\\u03c1\\u03b5\\u03c3\\u03af\\u03b5\\u03c2, \\u03ba\\u03b1\\u03b8\\u03ce\\u03c2 \\u03ba\\u03b1\\u03b9 \\u03c4\\u03b9\\u03c2 \\u03a0\\u03b5\\u03c1\\u03b9\\u03c6\\u03ad\\u03c1\\u03b5\\u03b9\\u03b5\\u03c2 \\u03ba\\u03b1\\u03b9 \\u03c4\\u03bf\\u03c5\\u03c2 \\u0394\\u03ae\\u03bc\\u03bf\\u03c5\\u03c2 \\u03c4\\u03c9\\u03bd \\u03b1\\u03bd\\u03c9\\u03c4\\u03ad\\u03c1\\u03c9 \\u03c0\\u03b5\\u03c1\\u03b9\\u03bf\\u03c7\\u03ce\\u03bd, \\u03ce\\u03c3\\u03c4\\u03b5 \\u03bd\\u03b1 \\u03b2\\u03c1\\u03af\\u03c3\\u03ba\\u03bf\\u03bd\\u03c4\\u03b1\\u03b9 \\u03c3\\u03b5 \\u03b1\\u03c5\\u03be\\u03b7\\u03bc\\u03ad\\u03bd\\u03b7 \\u03b5\\u03c4\\u03bf\\u03b9\\u03bc\\u03cc\\u03c4\\u03b7\\u03c4\\u03b1 \\u03c0\\u03bf\\u03bb\\u03b9\\u03c4\\u03b9\\u03ba\\u03ae\\u03c2 \\u03c0\\u03c1\\u03bf\\u03c3\\u03c4\\u03b1\\u03c3\\u03af\\u03b1\\u03c2 \\u03c0\\u03c1\\u03bf\\u03ba\\u03b5\\u03b9\\u03bc\\u03ad\\u03bd\\u03bf\\u03c5 \\u03bd\\u03b1 \\u03b1\\u03bd\\u03c4\\u03b9\\u03bc\\u03b5\\u03c4\\u03c9\\u03c0\\u03af\\u03c3\\u03bf\\u03c5\\u03bd \\u03ac\\u03bc\\u03b5\\u03c3\\u03b1 \\u03c4\\u03c5\\u03c7\\u03cc\\u03bd \\u03b5\\u03c0\\u03b5\\u03b9\\u03c3\\u03cc\\u03b4\\u03b9\\u03b1 \\u03c0\\u03c5\\u03c1\\u03ba\\u03b1\\u03b3\\u03b9\\u03ce\\u03bd. \\u03a0\\u03b1\\u03c1\\u03ac\\u03bb\\u03bb\\u03b7\\u03bb\\u03b1, \\u03b7 \\u0393\\u03b5\\u03bd\\u03b9\\u03ba\\u03ae \\u0393\\u03c1\\u03b1\\u03bc\\u03bc\\u03b1\\u03c4\\u03b5\\u03af\\u03b1 \\u03a0\\u03bf\\u03bb\\u03b9\\u03c4\\u03b9\\u03ba\\u03ae\\u03c2 \\u03a0\\u03c1\\u03bf\\u03c3\\u03c4\\u03b1\\u03c3\\u03af\\u03b1\\u03c2 \\u03c3\\u03c5\\u03bd\\u03b9\\u03c3\\u03c4\\u03ac \\u03c3\\u03c4\\u03bf\\u03c5\\u03c2 \\u03c0\\u03bf\\u03bb\\u03af\\u03c4\\u03b5\\u03c2 \\u03bd\\u03b1 \\u03b5\\u03af\\u03bd\\u03b1\\u03b9 \\u03b9\\u03b4\\u03b9\\u03b1\\u03af\\u03c4\\u03b5\\u03c1\\u03b1 \\u03c0\\u03c1\\u03bf\\u03c3\\u03b5\\u03ba\\u03c4\\u03b9\\u03ba\\u03bf\\u03af \\u03ba\\u03b1\\u03b9 \\u03bd\\u03b1 \\u03b1\\u03c0\\u03bf\\u03c6\\u03b5\\u03cd\\u03b3\\u03bf\\u03c5\\u03bd \\u03b5\\u03bd\\u03ad\\u03c1\\u03b3\\u03b5\\u03b9\\u03b5\\u03c2 \\u03c3\\u03c4\\u03b7\\u03bd \\u03cd\\u03c0\\u03b1\\u03b9\\u03b8\\u03c1\\u03bf \\u03c0\\u03bf\\u03c5 \\u03bc\\u03c0\\u03bf\\u03c1\\u03bf\\u03cd\\u03bd \\u03bd\\u03b1 \\u03c0\\u03c1\\u03bf\\u03ba\\u03b1\\u03bb\\u03ad\\u03c3\\u03bf\\u03c5\\u03bd \\u03c0\\u03c5\\u03c1\\u03ba\\u03b1\\u03b3\\u03b9\\u03ac \\u03b1\\u03c0\\u03cc \\u03b1\\u03bc\\u03ad\\u03bb\\u03b5\\u03b9\\u03b1, \\u03cc\\u03c0\\u03c9\\u03c2 \\u03c4\\u03bf \\u03ba\\u03ac\\u03c8\\u03b9\\u03bc\\u03bf \\u03be\\u03b5\\u03c1\\u03ce\\u03bd \\u03c7\\u03cc\\u03c1\\u03c4\\u03c9\\u03bd \\u03ba\\u03b1\\u03b9 \\u03ba\\u03bb\\u03b1\\u03b4\\u03b9\\u03ce\\u03bd \\u03ae \\u03c5\\u03c0\\u03bf\\u03bb\\u03b5\\u03b9\\u03bc\\u03bc\\u03ac\\u03c4\\u03c9\\u03bd \\u03ba\\u03b1\\u03b8\\u03b1\\u03c1\\u03b9\\u03c3\\u03bc\\u03bf\\u03cd, \\u03b7 \\u03c7\\u03c1\\u03ae\\u03c3\\u03b7 \\u03bc\\u03b7\\u03c7\\u03b1\\u03bd\\u03b7\\u03bc\\u03ac\\u03c4\\u03c9\\u03bd \\u03c0\\u03bf\\u03c5 \\u03c0\\u03c1\\u03bf\\u03ba\\u03b1\\u03bb\\u03bf\\u03cd\\u03bd \\u03c3\\u03c0\\u03b9\\u03bd\\u03b8\\u03ae\\u03c1\\u03b5\\u03c2 \\u03cc\\u03c0\\u03c9\\u03c2 \\u03b4\\u03b9\\u03c3\\u03ba\\u03bf\\u03c0\\u03c1\\u03af\\u03bf\\u03bd\\u03b1, \\u03c3\\u03c5\\u03c3\\u03ba\\u03b5\\u03c5\\u03ad\\u03c2 \\u03c3\\u03c5\\u03b3\\u03ba\\u03cc\\u03bb\\u03bb\\u03b7\\u03c3\\u03b7\\u03c2, \\u03b7 \\u03c7\\u03c1\\u03ae\\u03c3\\u03b7 \\u03c5\\u03c0\\u03b1\\u03af\\u03b8\\u03c1\\u03b9\\u03c9\\u03bd \\u03c8\\u03b7\\u03c3\\u03c4\\u03b1\\u03c1\\u03b9\\u03ce\\u03bd, \\u03c4\\u03bf \\u03ba\\u03ac\\u03c0\\u03bd\\u03b9\\u03c3\\u03bc\\u03b1 \\u03bc\\u03b5\\u03bb\\u03b9\\u03c3\\u03c3\\u03ce\\u03bd, \\u03b7 \\u03c1\\u03af\\u03c8\\u03b7 \\u03b1\\u03bd\\u03b1\\u03bc\\u03bc\\u03ad\\u03bd\\u03c9\\u03bd \\u03c4\\u03c3\\u03b9\\u03b3\\u03ac\\u03c1\\u03c9\\u03bd, \\u03ba.\\u03b1. \\u0395\\u03c0\\u03af\\u03c3\\u03b7\\u03c2, \\u03c5\\u03c0\\u03b5\\u03bd\\u03b8\\u03c5\\u03bc\\u03af\\u03b6\\u03b5\\u03c4\\u03b1\\u03b9 \\u03cc\\u03c4\\u03b9 \\u03ba\\u03b1\\u03c4\\u03ac \\u03c4\\u03b7 \\u03b4\\u03b9\\u03ac\\u03c1\\u03ba\\u03b5\\u03b9\\u03b1 \\u03c4\\u03b7\\u03c2 \\u03b1\\u03bd\\u03c4\\u03b9\\u03c0\\u03c5\\u03c1\\u03b9\\u03ba\\u03ae\\u03c2 \\u03c0\\u03b5\\u03c1\\u03b9\\u03cc\\u03b4\\u03bf\\u03c5 \\u03b1\\u03c0\\u03b1\\u03b3\\u03bf\\u03c1\\u03b5\\u03cd\\u03b5\\u03c4\\u03b1\\u03b9 \\u03b7 \\u03ba\\u03b1\\u03cd\\u03c3\\u03b7 \\u03c4\\u03c9\\u03bd \\u03b1\\u03b3\\u03c1\\u03ce\\u03bd. \\u03a3\\u03b5 \\u03c0\\u03b5\\u03c1\\u03af\\u03c0\\u03c4\\u03c9\\u03c3\\u03b7 \\u03c0\\u03bf\\u03c5 \\u03b1\\u03bd\\u03c4\\u03b9\\u03bb\\u03b7\\u03c6\\u03b8\\u03bf\\u03cd\\u03bd \\u03c0\\u03c5\\u03c1\\u03ba\\u03b1\\u03b3\\u03b9\\u03ac, \\u03bf\\u03b9 \\u03c0\\u03bf\\u03bb\\u03af\\u03c4\\u03b5\\u03c2 \\u03c0\\u03b1\\u03c1\\u03b1\\u03ba\\u03b1\\u03bb\\u03bf\\u03cd\\u03bd\\u03c4\\u03b1\\u03b9 \\u03bd\\u03b1 \\u03b5\\u03b9\\u03b4\\u03bf\\u03c0\\u03bf\\u03b9\\u03ae\\u03c3\\u03bf\\u03c5\\u03bd \\u03b1\\u03bc\\u03ad\\u03c3\\u03c9\\u03c2 \\u03c4\\u03b7\\u03bd \\u03a0\\u03c5\\u03c1\\u03bf\\u03c3\\u03b2\\u03b5\\u03c3\\u03c4\\u03b9\\u03ba\\u03ae \\u03a5\\u03c0\\u03b7\\u03c1\\u03b5\\u03c3\\u03af\\u03b1 \\u03c3\\u03c4\\u03bf\\u03bd \\u03b1\\u03c1\\u03b9\\u03b8\\u03bc\\u03cc \\u03ba\\u03bb\\u03ae\\u03c3\\u03b7\\u03c2 199. \\u0393\\u03b9\\u03b1 \\u03c0\\u03b5\\u03c1\\u03b9\\u03c3\\u03c3\\u03cc\\u03c4\\u03b5\\u03c1\\u03b5\\u03c2 \\u03c0\\u03bb\\u03b7\\u03c1\\u03bf\\u03c6\\u03bf\\u03c1\\u03af\\u03b5\\u03c2 \\u03ba\\u03b1\\u03b9 \\u03bf\\u03b4\\u03b7\\u03b3\\u03af\\u03b5\\u03c2 \\u03b1\\u03c5\\u03c4\\u03bf\\u03c0\\u03c1\\u03bf\\u03c3\\u03c4\\u03b1\\u03c3\\u03af\\u03b1\\u03c2 \\u03b1\\u03c0\\u03cc \\u03c4\\u03bf\\u03c5\\u03c2 \\u03ba\\u03b9\\u03bd\\u03b4\\u03cd\\u03bd\\u03bf\\u03c5\\u03c2 \\u03c4\\u03c9\\u03bd \\u03b4\\u03b1\\u03c3\\u03b9\\u03ba\\u03ce\\u03bd \\u03c0\\u03c5\\u03c1\\u03ba\\u03b1\\u03b3\\u03b9\\u03ce\\u03bd, \\u03bf\\u03b9 \\u03c0\\u03bf\\u03bb\\u03af\\u03c4\\u03b5\\u03c2 \\u03bc\\u03c0\\u03bf\\u03c1\\u03bf\\u03cd\\u03bd \\u03bd\\u03b1 \\u03b5\\u03c0\\u03b9\\u03c3\\u03ba\\u03b5\\u03c6\\u03b8\\u03bf\\u03cd\\u03bd \\u03c4\\u03b7\\u03bd \\u03b9\\u03c3\\u03c4\\u03bf\\u03c3\\u03b5\\u03bb\\u03af\\u03b4\\u03b1 \\u03c4\\u03b7\\u03c2 \\u0393\\u03b5\\u03bd\\u03b9\\u03ba\\u03ae\\u03c2 \\u0393\\u03c1\\u03b1\\u03bc\\u03bc\\u03b1\\u03c4\\u03b5\\u03af\\u03b1\\u03c2 \\u03a0\\u03bf\\u03bb\\u03b9\\u03c4\\u03b9\\u03ba\\u03ae\\u03c2 \\u03a0\\u03c1\\u03bf\\u03c3\\u03c4\\u03b1\\u03c3\\u03af\\u03b1\\u03c2 \\u03c3\\u03c4\\u03b7\\u03bd \\u03b7\\u03bb\\u03b5\\u03ba\\u03c4\\u03c1\\u03bf\\u03bd\\u03b9\\u03ba\\u03ae \\u03b4\\u03b9\\u03b5\\u03cd\\u03b8\\u03c5\\u03bd\\u03c3\\u03b7 civilprotection.gov.gr.\",\n          \"\\u03a4\\u03bf \\u03bd\\u03bf\\u03c3\\u03bf\\u03ba\\u03bf\\u03bc\\u03b5\\u03af\\u03bf \\u00ab\\u039c\\u03b5\\u03c4\\u03b1\\u03be\\u03ac\\u00bb \\u03b5\\u03c0\\u03b1\\u03bd\\u03b1\\u03c6\\u03ad\\u03c1\\u03b5\\u03b9 \\u03c4\\u03b7 \\u03c7\\u03c1\\u03ae\\u03c3\\u03b7 \\u03bc\\u03ac\\u03c3\\u03ba\\u03b1\\u03c2 \\u03ba\\u03b1\\u03b9 \\u03c4\\u03b7 \\u03b4\\u03b9\\u03b5\\u03bd\\u03ad\\u03c1\\u03b3\\u03b5\\u03b9\\u03b1 rapid test \\u03bb\\u03cc\\u03b3\\u03c9 \\u03c4\\u03b7\\u03c2 \\u03b1\\u03cd\\u03be\\u03b7\\u03c3\\u03b7\\u03c2 \\u03c4\\u03c9\\u03bd \\u03ba\\u03c1\\u03bf\\u03c5\\u03c3\\u03bc\\u03ac\\u03c4\\u03c9\\u03bd \\u03ba\\u03bf\\u03c1\\u03c9\\u03bd\\u03bf\\u03ca\\u03bf\\u03cd \\u03c0\\u03bf\\u03c5 \\u03c0\\u03b1\\u03c1\\u03b1\\u03c4\\u03b7\\u03c1\\u03b5\\u03af\\u03c4\\u03b1\\u03b9 \\u03c4\\u03b9\\u03c2 \\u03c4\\u03b5\\u03bb\\u03b5\\u03c5\\u03c4\\u03b1\\u03af\\u03b5\\u03c2 \\u03bc\\u03ad\\u03c1\\u03b5\\u03c2 \\u03c3\\u03c4\\u03b7\\u03bd \\u03ba\\u03bf\\u03b9\\u03bd\\u03cc\\u03c4\\u03b7\\u03c4\\u03b1. \\u038c\\u03c0\\u03c9\\u03c2 \\u03b3\\u03bd\\u03c9\\u03c3\\u03c4\\u03bf\\u03c0\\u03bf\\u03af\\u03b7\\u03c3\\u03b5 \\u03bf \\u0394\\u03b9\\u03bf\\u03b9\\u03ba\\u03b7\\u03c4\\u03ae\\u03c2 \\u03c4\\u03bf\\u03c5 \\u039d\\u03bf\\u03c3\\u03bf\\u03ba\\u03bf\\u03bc\\u03b5\\u03af\\u03bf\\u03c5 \\u03a3\\u03b1\\u03c1\\u03ac\\u03bd\\u03c4\\u03bf\\u03c2 \\u0395\\u03c5\\u03c3\\u03c4\\u03b1\\u03b8\\u03cc\\u03c0\\u03bf\\u03c5\\u03bb\\u03bf\\u03c2, \\u03c4\\u03b1 \\u03bc\\u03ad\\u03c4\\u03c1\\u03b1 \\u03b3\\u03b9\\u03b1 \\u03c4\\u03b7\\u03bd \\u03b1\\u03bd\\u03ac\\u03c3\\u03c7\\u03b5\\u03c3\\u03b7 \\u03c4\\u03c9\\u03bd \\u03ba\\u03c1\\u03bf\\u03c5\\u03c3\\u03bc\\u03ac\\u03c4\\u03c9\\u03bd \\u03ba\\u03bf\\u03c1\\u03c9\\u03bd\\u03bf\\u03ca\\u03bf\\u03cd \\u03b8\\u03b1 \\u03ad\\u03c7\\u03bf\\u03c5\\u03bd \\u03b9\\u03c3\\u03c7\\u03cd \\u03b3\\u03b9\\u03b1 \\u03c4\\u03b9\\u03c2 \\u03b5\\u03c0\\u03cc\\u03bc\\u03b5\\u03bd\\u03b5\\u03c2 15 \\u03b7\\u03bc\\u03ad\\u03c1\\u03b5\\u03c2, \\u03bc\\u03b5 \\u03c0\\u03c1\\u03c9\\u03c4\\u03b1\\u03c1\\u03c7\\u03b9\\u03ba\\u03cc \\u03b3\\u03bd\\u03ce\\u03bc\\u03bf\\u03bd\\u03b1 \\u03c4\\u03b7\\u03bd \\u03c0\\u03c1\\u03bf\\u03c3\\u03c4\\u03b1\\u03c3\\u03af\\u03b1 \\u03c4\\u03c9\\u03bd \\u03bf\\u03b3\\u03ba\\u03bf\\u03bb\\u03bf\\u03b3\\u03b9\\u03ba\\u03ce\\u03bd \\u03b1\\u03c3\\u03b8\\u03b5\\u03bd\\u03ce\\u03bd \\u03c4\\u03bf\\u03c5 \\u039d\\u03bf\\u03c3\\u03bf\\u03ba\\u03bf\\u03bc\\u03b5\\u03af\\u03bf\\u03c5. \\u0395\\u03b9\\u03b4\\u03b9\\u03ba\\u03cc\\u03c4\\u03b5\\u03c1\\u03b1, \\u03c4\\u03b1 \\u03bc\\u03ad\\u03c4\\u03c1\\u03b1 \\u03c0\\u03bf\\u03c5 \\u03b8\\u03b1 \\u03c0\\u03c1\\u03ad\\u03c0\\u03b5\\u03b9 \\u03bd\\u03b1 \\u03c4\\u03b7\\u03c1\\u03bf\\u03cd\\u03bd\\u03c4\\u03b1\\u03b9 \\u03b1\\u03c5\\u03c3\\u03c4\\u03b7\\u03c1\\u03ac \\u03b1\\u03c0\\u03cc \\u03c4\\u03bf \\u03c0\\u03c1\\u03bf\\u03c3\\u03c9\\u03c0\\u03b9\\u03ba\\u03cc \\u03ba\\u03b1\\u03b9 \\u03c4\\u03bf\\u03c5\\u03c2 \\u03c3\\u03c5\\u03bd\\u03bf\\u03b4\\u03bf\\u03cd\\u03c2 \\u03b1\\u03c3\\u03b8\\u03b5\\u03bd\\u03ce\\u03bd \\u03b3\\u03b9\\u03b1 \\u03c4\\u03b9\\u03c2 \\u03b5\\u03c0\\u03cc\\u03bc\\u03b5\\u03bd\\u03b5\\u03c2 15 \\u03bc\\u03ad\\u03c1\\u03b5\\u03c2, \\u03b5\\u03af\\u03bd\\u03b1\\u03b9: \\u00ab\\u03a0\\u03b1\\u03c1\\u03b1\\u03ba\\u03b1\\u03bb\\u03ce \\u03b3\\u03b9\\u03b1 \\u03c4\\u03b7 \\u03c3\\u03c5\\u03bd\\u03b5\\u03c1\\u03b3\\u03b1\\u03c3\\u03af\\u03b1 \\u03c4\\u03c9\\u03bd \\u03c3\\u03c5\\u03bd\\u03b1\\u03c1\\u03bc\\u03cc\\u03b4\\u03b9\\u03c9\\u03bd \\u03b4\\u03b9\\u03b5\\u03c5\\u03b8\\u03cd\\u03bd\\u03c3\\u03b5\\u03c9\\u03bd \\u03ba\\u03b1\\u03b9 \\u03c4\\u03bc\\u03b7\\u03bc\\u03ac\\u03c4\\u03c9\\u03bd \\u03b3\\u03b9\\u03b1 \\u03c4\\u03b7\\u03bd \\u03ac\\u03bc\\u03b5\\u03c3\\u03b7 \\u03c5\\u03bb\\u03bf\\u03c0\\u03bf\\u03af\\u03b7\\u03c3\\u03b7 \\u03c4\\u03c9\\u03bd \\u03c0\\u03c1\\u03bf\\u03b1\\u03bd\\u03b1\\u03c6\\u03b5\\u03c1\\u03cc\\u03bc\\u03b5\\u03bd\\u03c9\\u03bd \\u03bc\\u03ad\\u03c4\\u03c1\\u03c9\\u03bd \\u03ba\\u03b1\\u03b9 \\u03c4\\u03b7 \\u03c3\\u03c9\\u03c3\\u03c4\\u03ae \\u03b5\\u03bd\\u03b7\\u03bc\\u03ad\\u03c1\\u03c9\\u03c3\\u03b7 \\u03c4\\u03bf\\u03c5 \\u03c0\\u03c1\\u03bf\\u03c3\\u03c9\\u03c0\\u03b9\\u03ba\\u03bf\\u03cd, \\u03c4\\u03c9\\u03bd \\u03b1\\u03c3\\u03b8\\u03b5\\u03bd\\u03ce\\u03bd \\u03ba\\u03b1\\u03b9 \\u03c4\\u03c9\\u03bd \\u03c3\\u03c5\\u03bd\\u03bf\\u03b4\\u03ce\\u03bd \\u03c4\\u03bf\\u03c5\\u03c2, \\u03bc\\u03ad\\u03c3\\u03c9 \\u03b4\\u03b9\\u03b1\\u03bd\\u03bf\\u03bc\\u03ae\\u03c2 \\u03b5\\u03bd\\u03b7\\u03bc\\u03b5\\u03c1\\u03c9\\u03c4\\u03b9\\u03ba\\u03bf\\u03cd \\u03b5\\u03bd\\u03c4\\u03cd\\u03c0\\u03bf\\u03c5 \\u03c3\\u03c4\\u03b7\\u03bd \\u03c0\\u03cd\\u03bb\\u03b7, \\u03c3\\u03c4\\u03b9\\u03c2 \\u03ba\\u03bb\\u03b9\\u03bd\\u03b9\\u03ba\\u03ad\\u03c2 \\u03ba\\u03b1\\u03b9 \\u03c3\\u03c4\\u03b1 \\u03b5\\u03be\\u03c9\\u03c4\\u03b5\\u03c1\\u03b9\\u03ba\\u03ac \\u03b9\\u03b1\\u03c4\\u03c1\\u03b5\\u03af\\u03b1, \\u03b1\\u03bb\\u03bb\\u03ac \\u03ba\\u03b1\\u03b9 \\u03bc\\u03ad\\u03c3\\u03c9 \\u03c4\\u03b7\\u03c2 \\u03b9\\u03c3\\u03c4\\u03bf\\u03c3\\u03b5\\u03bb\\u03af\\u03b4\\u03b1\\u03c2 \\u03c4\\u03bf\\u03c5 \\u039d\\u03bf\\u03c3\\u03bf\\u03ba\\u03bf\\u03bc\\u03b5\\u03af\\u03bf\\u03c5 \\u039c\\u03b5\\u03c4\\u03b1\\u03be\\u03ac. \\u03a4\\u03b1 \\u03bc\\u03ad\\u03c4\\u03c1\\u03b1 \\u03b1\\u03c5\\u03c4\\u03ac \\u03c4\\u03af\\u03b8\\u03b5\\u03bd\\u03c4\\u03b1\\u03b9 \\u03c3\\u03b5 \\u03b5\\u03c6\\u03b1\\u03c1\\u03bc\\u03bf\\u03b3\\u03ae \\u03b1\\u03c0\\u03cc \\u03c4\\u03b7 \\u0394\\u03b5\\u03c5\\u03c4\\u03ad\\u03c1\\u03b1 15 \\u0399\\u03bf\\u03c5\\u03bb\\u03af\\u03bf\\u03c5 2024 \\u03ba\\u03b1\\u03b9 \\u03ad\\u03c9\\u03c2 \\u03c4\\u03b7 \\u0394\\u03b5\\u03c5\\u03c4\\u03ad\\u03c1\\u03b1 29 \\u0399\\u03bf\\u03c5\\u03bb\\u03af\\u03bf\\u03c5 2024 \\u03bf\\u03c0\\u03cc\\u03c4\\u03b5 \\u03ba\\u03b1\\u03b9 \\u03b8\\u03b1 \\u03c5\\u03c0\\u03ac\\u03c1\\u03be\\u03b5\\u03b9 \\u03b5\\u03c0\\u03b1\\u03bd\\u03b5\\u03be\\u03ad\\u03c4\\u03b1\\u03c3\\u03b7 \\u03c4\\u03c9\\u03bd \\u03bc\\u03ad\\u03c4\\u03c1\\u03c9\\u03bd, \\u03b1\\u03bd\\u03ac\\u03bb\\u03bf\\u03b3\\u03b1 \\u03bc\\u03b5 \\u03c4\\u03b1 \\u03b5\\u03c0\\u03b9\\u03b4\\u03b7\\u03bc\\u03b9\\u03bf\\u03bb\\u03bf\\u03b3\\u03b9\\u03ba\\u03ac \\u03b4\\u03b5\\u03b4\\u03bf\\u03bc\\u03ad\\u03bd\\u03b1 \\u03c0\\u03bf\\u03c5 \\u03b8\\u03b1 \\u03ad\\u03c7\\u03bf\\u03c5\\u03bd \\u03c0\\u03c1\\u03bf\\u03ba\\u03cd\\u03c8\\u03b5\\u03b9\\u00bb, \\u03b1\\u03bd\\u03b1\\u03c6\\u03ad\\u03c1\\u03b5\\u03b9 \\u03bf \\u0394\\u03b9\\u03bf\\u03b9\\u03ba\\u03b7\\u03c4\\u03ae\\u03c2 \\u03c4\\u03bf\\u03c5 \\u03b1\\u03bd\\u03c4\\u03b9\\u03ba\\u03b1\\u03c1\\u03ba\\u03b9\\u03bd\\u03b9\\u03ba\\u03bf\\u03cd \\u039d\\u03bf\\u03c3\\u03bf\\u03ba\\u03bf\\u03bc\\u03b5\\u03af\\u03bf\\u03c5 \\u00ab\\u039c\\u03b5\\u03c4\\u03b1\\u03be\\u03ac\\u00bb.\"\n        ],\n        \"semantic_type\": \"\",\n        \"description\": \"\"\n      }\n    },\n    {\n      \"column\": \"feat_img_link\",\n      \"properties\": {\n        \"dtype\": \"string\",\n        \"num_unique_values\": 551,\n        \"samples\": [\n          \"https://www.athensvoice.gr/images/1074x600/1/jpg/files/2022-12-01/trapeza.jpg\",\n          \"https://www.athensvoice.gr/images/1074x600/1/jpg/files/2024-08-10/kindynos-pyrkagias-kyriakh.jpg\",\n          \"https://www.athensvoice.gr/images/1074x600/jpg/files/2024-07-08/dimos_athinaion_kindinos_pirkagias_.jpg\"\n        ],\n        \"semantic_type\": \"\",\n        \"description\": \"\"\n      }\n    }\n  ]\n}"
            }
          },
          "metadata": {},
          "execution_count": 19
        }
      ]
    },
    {
      "cell_type": "code",
      "source": [
        "import re\n",
        "from collections import Counter\n",
        "\n",
        "df['text'] = df['title'].fillna('') + '' + df['excerpt'].fillna('') + '' + df['subtitle'].fillna('') + '' + df['text_body'].fillna('')\n",
        "df['date'] = pd.to_datetime(df['date'], errors='coerce')\n",
        "df_2023 = df[df['date'].dt.year == 2023]\n",
        "\n",
        "klimatikh_krish_articles = df_2023[df_2023['text'].fillna('').str.contains(\"κλιματικ\", case=False)]\n",
        "\n",
        "words_around = []\n",
        "\n",
        "for text in klimatikh_krish_articles['text']:\n",
        "\n",
        "    if isinstance(text, str):\n",
        "        matches = re.finditer(r\"(.{0,50}κλιματικ.{0,50})\", text, flags=re.IGNORECASE)\n",
        "        words_around += [m.group(0) for m in matches]"
      ],
      "metadata": {
        "id": "5BIa8P8gPXch"
      },
      "execution_count": 20,
      "outputs": []
    },
    {
      "cell_type": "code",
      "source": [
        "total_articles = len(df_2023)\n",
        "klimatik_count = len(klimatikh_krish_articles)"
      ],
      "metadata": {
        "id": "G42mbmsTUL9U"
      },
      "execution_count": 21,
      "outputs": []
    },
    {
      "cell_type": "code",
      "source": [
        "percentage = klimatik_count / total_articles * 100"
      ],
      "metadata": {
        "id": "yHBHD1LoUOEe"
      },
      "execution_count": 22,
      "outputs": []
    },
    {
      "cell_type": "code",
      "source": [
        "print(f\"Άρθρα με αναφορά στην κλιματική αλλαγή: {klimatik_count} ({percentage:.2f}%) από {total_articles}\")"
      ],
      "metadata": {
        "colab": {
          "base_uri": "https://localhost:8080/"
        },
        "id": "L-foJET7UQmL",
        "outputId": "00703ef2-6a10-4857-ef43-c3c59c59bf5d"
      },
      "execution_count": 23,
      "outputs": [
        {
          "output_type": "stream",
          "name": "stdout",
          "text": [
            "Άρθρα με αναφορά στην κλιματική αλλαγή: 122 (39.74%) από 307\n"
          ]
        }
      ]
    },
    {
      "cell_type": "code",
      "source": [
        "klimatikh_krish_articles['month'] = klimatikh_krish_articles['date'].dt.to_period('M')"
      ],
      "metadata": {
        "colab": {
          "base_uri": "https://localhost:8080/"
        },
        "id": "Ui-uX5d9UWqD",
        "outputId": "3a13baed-0092-4428-ecea-b5d6c576dfff"
      },
      "execution_count": 24,
      "outputs": [
        {
          "output_type": "stream",
          "name": "stderr",
          "text": [
            "<ipython-input-24-2484829211>:1: SettingWithCopyWarning: \n",
            "A value is trying to be set on a copy of a slice from a DataFrame.\n",
            "Try using .loc[row_indexer,col_indexer] = value instead\n",
            "\n",
            "See the caveats in the documentation: https://pandas.pydata.org/pandas-docs/stable/user_guide/indexing.html#returning-a-view-versus-a-copy\n",
            "  klimatikh_krish_articles['month'] = klimatikh_krish_articles['date'].dt.to_period('M')\n"
          ]
        }
      ]
    },
    {
      "cell_type": "code",
      "source": [
        "monthly_counts = klimatikh_krish_articles.groupby('month').size()"
      ],
      "metadata": {
        "id": "ErS0zxC5UYlD"
      },
      "execution_count": 25,
      "outputs": []
    },
    {
      "cell_type": "code",
      "source": [
        "import matplotlib.pyplot as plt"
      ],
      "metadata": {
        "id": "pRKaPPiNUaMm"
      },
      "execution_count": 26,
      "outputs": []
    },
    {
      "cell_type": "code",
      "source": [
        "monthly_counts.plot(kind='bar', figsize=(12, 6), title=\"Αναφορές σε 'κλιματική αλλαγή' ανά μήνα\")\n",
        "plt.ylabel(\"Πλήθος άρθρων\")\n",
        "plt.xlabel(\"Μήνας\")\n",
        "plt.tight_layout()\n",
        "plt.show()"
      ],
      "metadata": {
        "colab": {
          "base_uri": "https://localhost:8080/",
          "height": 607
        },
        "id": "U2HKsUKSUcdS",
        "outputId": "3d90a67d-e849-4e8d-c216-6ae1194451c8"
      },
      "execution_count": 27,
      "outputs": [
        {
          "output_type": "display_data",
          "data": {
            "text/plain": [
              "<Figure size 1200x600 with 1 Axes>"
            ],
            "image/png": "[encoded data removed]"
          },
          "metadata": {}
        }
      ]
    },
    {
      "cell_type": "code",
      "source": [
        "for i, phrase in enumerate(words_around[:30], 1):\n",
        "    print(f\"{i}. {phrase}\")"
      ],
      "metadata": {
        "colab": {
          "base_uri": "https://localhost:8080/"
        },
        "id": "GoYTJfVrUg0K",
        "outputId": "f0ce8652-c559-4e3d-bc1a-e26ce3581f26"
      },
      "execution_count": 28,
      "outputs": [
        {
          "output_type": "stream",
          "name": "stdout",
          "text": [
            "1. την ξηρασία και τη ζέστη που προκαλούνται από την κλιματική αλλαγή και «ανεξέλεγκτες», καθώς «οι τακτικές κα\n",
            "2. ίηση των ποινών στους εμπρηστές μίλησε ο υπουργός Κλιματικής Κρίσης και Πολιτικής ΠροστασίαςΓια την αυστηροπ\n",
            "3. ίηση των ποινών στους εμπρηστές μίλησε ο υπουργός Κλιματικής Κρίσης και Πολιτικής ΠροστασίαςΓια την αυστηροπ\n",
            "4. πεται στο υπό ψήφιση νομοσχέδιο μίλησε ο υπουργός Κλιματικής Κρίσης και Πολιτικής Προστασίας, Βασίλης Κικίλι\n",
            "5.  ολοένα και εντείνονται στον πλανήτη συνέπεια της κλιματικής αλλαγής. Σύμφωνα με πληροφορίες, αυτό που η κυβ\n",
            "6. φιακής Δικαυβέρνησης και Πολιτικής Προστασίας και Κλιματικής Κρίσης, κρατούν χαμηλούς τόνους αφού πρέπε\n",
            "7. πουργού, κ. Δημήτρη Παπαστεργίου, με το Υπουργείο Κλιματικής Κρίσης και Πολιτικής Προστασίας και δη, με τον \n",
            "8. σης Επιπτώσεων Φυσικών Καταστροφών του Υπουργείου Κλιματικής Κρίσης και Πολιτικής Προστασίας να εργάζονται ε\n",
            "9. σης Επιπτώσεων Φυσικών Καταστροφών του Υπουργείου Κλιματικής Κρίσης και Πολιτικής Προστασίας, όπου αφού ολοκ\n",
            "10. καγιές γίνουν πιο συχνές και πιο σοβαρές λόγω της κλιματικής αλλαγής, προβλέπει η Διακυβερνητική Επιτροπή γι\n",
            "11. α την Κλιματική Αλλαγή (IPCC), σύμφωνα με την τελευταία ανάλυση \n",
            "12. ης πυρκαγιών και τις σχετικές ζημιές με βάση τρία κλιματικά σενάρια, χρησιμοποιώντας ένα δικό της μοντέλο, σ\n",
            "13. ές και ζεστές συνθήκες, οι οποίες οφείλονται στην κλιματική αλλαγή. Εξάλλου αυτές οι δασικές πυρκαγιές εκλύο\n",
            "14. ρίες για το τέλος αντιμετώπισης των συνεπειών της κλιματικής αλλαγής στο τέλος του σημειώματος, στην ενότητα\n",
            "15.  και το νέο τέλος αντιμετώπισης των συνεπειών της κλιματικής αλλαγής ανάλογα με την κατηγορία του καταλύματο\n",
            "16.  θα κάνουμε τα πάντα ώστε η άνιση μάχη μας με την Κλιματική Κρίση να μην γίνει μία μάχη χαμένη», είπε στην ε\n",
            "17. ης τελευταίας δεκαετίας και επιδεινώνονται με την κλιματική αλλαγή. Από τα τέλη Ιουνίου, ένα λογισμικό ελέγχ\n",
            "18.  μια πολιτεία που βρίσκεται στην πρώτη γραμμή της κλιματικής αλλαγής και αντιμετωπίζει όλο και πιο καταστρεπ\n",
            "19. ματά μας και να δουλέψουμε μαζί, επειδή τα ακραία κλιματικά φαινόμενα μας ξεπερνούν όλους», καταλήγει.\n",
            "20. κή Γραμματεία Πολιτικής Προστασίας του υπουργείου Κλιματικής Κρίσης & Πολιτικής Προστασίας (civilprotection.\n",
            "21. ροστασίας (civilprotection.gov.gr) του Υπουργείου Κλιματικής Κρίσης & Πολιτικής Προστασίας έχει ενημερώσει τ\n",
            "22. κή γραμματεία Πολιτικής Προστασίας του υπουργείου Κλιματικής Κρίσης και Πολιτικής Προστασίας (civilprotectio\n",
            "23. κή γραμματεία Πολιτικής Προστασίας του υπουργείου Κλιματικής Κρίσης και Πολιτικής Προστασίας (civilprotectio\n",
            "24. ροστασίας (civilprotection.gov.gr) του υπουργείου Κλιματικής Κρίσης και Πολιτικής Προστασίας έχει ενημερώσει\n",
            "25. κή Γραμματεία Πολιτικής Προστασίας του υπουργείου Κλιματικής Κρίσης & Πολιτικής Προστασίας (civilprotection.\n",
            "26. ροστασίας (civilprotection.gov.gr) του Υπουργείου Κλιματικής Κρίσης & Πολιτικής Προστασίας έχει ενημερώσει τ\n",
            "27. ησης, όπως αυτό θα προσδιοριστεί από το Υπουργείο Κλιματικής Κρίσης και Πολιτικής Προστασίας, μετά την καταγ\n",
            "28. ών Καταστροφών και Κρατικής Αρωγής του Υπουργείου Κλιματικής Κρίσης και Πολιτικής Προστασίας με τις επιτροπέ\n",
            "29. τοιχο δελτίο ή Έκθεση ή Πρωτόκολλο του Υπουργείου Κλιματικής Κρίσης και Πολιτικής Προστασίας. Διευκρινίζεται\n",
            "30. ομής, όπως αυτό θα προσδιοριστεί από το Υπουργείο Κλιματικής Κρίσης και Πολιτικής Προστασίας με σχετική απόφ\n"
          ]
        }
      ]
    },
    {
      "cell_type": "code",
      "source": [
        "cause_keywords = [\"εξαιτίας\", \"λόγω\", \"αίτιο\", \"αιτία\", \"προκαλεί\", \"προκάλεσε\", \"συνέπεια\", \"σχετίζεται\", \"ευθύνεται\", \"οφείλεται\"]"
      ],
      "metadata": {
        "id": "_RsUWa2iUlZ_"
      },
      "execution_count": 31,
      "outputs": []
    },
    {
      "cell_type": "code",
      "source": [
        "all_articles = df_2023[\"text\"].dropna().tolist()"
      ],
      "metadata": {
        "id": "arM2ec9lqV63"
      },
      "execution_count": 32,
      "outputs": []
    },
    {
      "cell_type": "code",
      "source": [
        "co_occurrence_count = 0\n",
        "\n",
        "for article in all_articles:\n",
        "    article_lower = article.lower()\n",
        "    if \"κλιματική αλλαγή\" in article_lower or \"κλιματική κρίση\" in article_lower:\n",
        "        if any(kw in article_lower for kw in cause_keywords):\n",
        "            co_occurrence_count += 1\n",
        "\n",
        "print(f\"Αριθμός άρθρων με αιτιολογική σύνδεση με την κλιματική αλλαγή: {co_occurrence_count} από {len(all_articles)}\")"
      ],
      "metadata": {
        "colab": {
          "base_uri": "https://localhost:8080/"
        },
        "id": "tul9pE8SUqBb",
        "outputId": "8f2edc50-3117-4e96-9f41-d4a29f127675"
      },
      "execution_count": 33,
      "outputs": [
        {
          "output_type": "stream",
          "name": "stdout",
          "text": [
            "Αριθμός άρθρων με αιτιολογική σύνδεση με την κλιματική αλλαγή: 18 από 307\n"
          ]
        }
      ]
    }
  ]
}
